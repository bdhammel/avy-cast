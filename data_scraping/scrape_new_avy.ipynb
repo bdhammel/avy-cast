{
 "cells": [
  {
   "cell_type": "code",
   "execution_count": 7,
   "id": "3e8c76b5-c135-46df-a9cc-1f0178d1413c",
   "metadata": {},
   "outputs": [],
   "source": [
    "START_DATE = '2000-09-01'\n",
    "END_DATE = '2023-08-31'\n",
    "CENTER = 'SAC'\n",
    "All_DATES = f'https://api.avalanche.org/v2/public/products?avalanche_center_id={CENTER}&date_start={START_DATE}&date_end={END_DATE}'\n",
    "dietailed_report_tmplt = 'https://api.avalanche.org/v2/public/product/{id_}'"
   ]
  },
  {
   "cell_type": "code",
   "execution_count": 39,
   "id": "4816162e-7293-4117-b11a-3814c2a49d7e",
   "metadata": {},
   "outputs": [],
   "source": [
    "import requests\n",
    "from tqdm.notebook import tqdm\n",
    "import pandas as pd\n",
    "import functools"
   ]
  },
  {
   "cell_type": "code",
   "execution_count": 9,
   "id": "7cb554e2-ed6f-48b3-a4e6-d0f1b0ffb806",
   "metadata": {},
   "outputs": [],
   "source": [
    "@functools.lru_cache\n",
    "def get_all_reports(url):\n",
    "    response = requests.get(url)\n",
    "\n",
    "response = get_all_reports(All_DATES)"
   ]
  },
  {
   "cell_type": "code",
   "execution_count": 10,
   "id": "e32ae899-66c9-4c0e-8288-4a8279d4fbc3",
   "metadata": {},
   "outputs": [],
   "source": [
    "all_reports = response.json()\n",
    "forcast_reports = [report for report in all_reports if report['product_type'] == 'forecast']"
   ]
  },
  {
   "cell_type": "code",
   "execution_count": 43,
   "id": "cb6e2e7a-c931-4f60-b0b9-4400b0304709",
   "metadata": {},
   "outputs": [],
   "source": [
    "@functools.lru_cache\n",
    "def get_report(report_url):\n",
    "    res = requests.get(report_url)\n",
    "    data = res.json()\n",
    "    return data"
   ]
  },
  {
   "cell_type": "code",
   "execution_count": 55,
   "id": "43dc4459-1264-4656-b19a-598595b56528",
   "metadata": {},
   "outputs": [],
   "source": [
    "def parse_report(report):\n",
    "    id_ = report['id']\n",
    "    date_str, time_str = report['start_date'].split('T')\n",
    "    date = datetime.datetime.strptime(date_str, '%Y-%m-%d')\n",
    "    rating = report['danger_level_text']\n",
    "    report_url = dietailed_report_tmplt.format(id_=id_)\n",
    "    data = get_report(report_url)\n",
    "    problems = []\n",
    "    for problem in data['forecast_avalanche_problems']:\n",
    "        problems.append(problem['name'])\n",
    "    return date, rating, report_url, tuple(problems)"
   ]
  },
  {
   "cell_type": "code",
   "execution_count": 56,
   "id": "f4df3651-1905-4f84-9e27-cdffe71a2581",
   "metadata": {},
   "outputs": [
    {
     "name": "stderr",
     "output_type": "stream",
     "text": [
      "100%|█████████████████████████████████████████████████████████████████████████████████████████████████████████████████████████████████████████████████████████████████████████████████████████████████████████████████████████████████████████| 521/521 [01:54<00:00,  4.57it/s]\n"
     ]
    }
   ],
   "source": [
    "data = []\n",
    "for report in tqdm(forcast_reports):\n",
    "    data.append(parse_report(report))"
   ]
  },
  {
   "cell_type": "code",
   "execution_count": 62,
   "id": "ba4d52c1-a9d7-4e0b-b977-f115d3b41159",
   "metadata": {},
   "outputs": [],
   "source": [
    "df = pd.DataFrame(data, columns=['date', 'rating', 'report', 'problems'])"
   ]
  },
  {
   "cell_type": "code",
   "execution_count": 140,
   "id": "46d95d3e-d958-49a9-b54d-860800595674",
   "metadata": {},
   "outputs": [],
   "source": [
    "# df.head()\n",
    "# _df = df.copy()\n",
    "df = _df.copy()"
   ]
  },
  {
   "cell_type": "code",
   "execution_count": null,
   "id": "7637a46f-13b8-4a5e-b571-f6c1b8b85671",
   "metadata": {},
   "outputs": [],
   "source": []
  },
  {
   "cell_type": "code",
   "execution_count": 153,
   "id": "ef946a24-54f9-44bc-9239-074ca1aedd5a",
   "metadata": {},
   "outputs": [
    {
     "data": {
      "text/plain": [
       "0"
      ]
     },
     "execution_count": 153,
     "metadata": {},
     "output_type": "execute_result"
    }
   ],
   "source": [
    "dups = df.duplicated(['date'], keep=False)\n",
    "dups.sum()"
   ]
  },
  {
   "cell_type": "code",
   "execution_count": 154,
   "id": "b20882a6-6a9c-468a-aecf-f13a28ef5ec8",
   "metadata": {
    "tags": []
   },
   "outputs": [],
   "source": [
    "# df.to_pickle(f'../data/avy_data_new.pkl')"
   ]
  },
  {
   "cell_type": "code",
   "execution_count": null,
   "id": "da017b87-2444-4697-a284-45584e4de90f",
   "metadata": {},
   "outputs": [],
   "source": []
  }
 ],
 "metadata": {
  "kernelspec": {
   "display_name": "Python 3 (ipykernel)",
   "language": "python",
   "name": "python3"
  },
  "language_info": {
   "codemirror_mode": {
    "name": "ipython",
    "version": 3
   },
   "file_extension": ".py",
   "mimetype": "text/x-python",
   "name": "python",
   "nbconvert_exporter": "python",
   "pygments_lexer": "ipython3",
   "version": "3.9.11"
  }
 },
 "nbformat": 4,
 "nbformat_minor": 5
}
