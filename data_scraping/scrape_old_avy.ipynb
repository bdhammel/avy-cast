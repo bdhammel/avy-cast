{
 "cells": [
  {
   "cell_type": "code",
   "execution_count": 1,
   "id": "930e6972",
   "metadata": {},
   "outputs": [],
   "source": [
    "import requests\n",
    "from bs4 import BeautifulSoup\n",
    "import re\n",
    "import datetime\n",
    "from tqdm.notebook import tqdm\n",
    "import pandas as pd\n",
    "import functools"
   ]
  },
  {
   "cell_type": "markdown",
   "id": "07fcf899",
   "metadata": {},
   "source": [
    "## Notes\n",
    "Need to scrap old and new data  \n",
    "\n",
    "https://api.avalanche.org/v2/public/products?avalanche_center_id=SAC&date_start=2021-09-01&date_end=2022-08-31  \n",
    "https://api.avalanche.org/v2/public/avalanche-center/SAC  \n",
    "Only goes back to ~2018"
   ]
  },
  {
   "cell_type": "code",
   "execution_count": 2,
   "id": "e173083d",
   "metadata": {},
   "outputs": [],
   "source": [
    "BASE_URL = \"https://www.sierraavalanchecenter.org\"\n",
    "URL = \"/prior-jan-6-2021/archive\"\n",
    "\n",
    "prog = re.compile(r\"(\\d+\\-\\d+\\-\\d+)$\")\n",
    "problem_filter = re.compile(\"Avalanche Problem \\d: ([\\w\\s]*)\")"
   ]
  },
  {
   "cell_type": "code",
   "execution_count": 25,
   "id": "ce2e8556",
   "metadata": {},
   "outputs": [],
   "source": [
    "# https://www.sierraavalanchecenter.org//sites/all/themes/responsive_sac/img/rating-icons/6.png\n",
    "def get_rating(img):\n",
    "    rating = img.get('src').split('/')[-1]\n",
    "    ratings = {\n",
    "        '1.png': 'low',\n",
    "        '2.png': 'moderate',\n",
    "        '3.png': 'considerable',\n",
    "        '4.png': 'high',\n",
    "        '5.png': 'extreme',\n",
    "        '0.png': 'na',\n",
    "        '6.png': 'na',\n",
    "    }\n",
    "    try:\n",
    "        rating = ratings[rating]\n",
    "    except KeyError as e:\n",
    "        rating = None\n",
    "    return rating"
   ]
  },
  {
   "cell_type": "code",
   "execution_count": 26,
   "id": "5854fa7b",
   "metadata": {},
   "outputs": [],
   "source": [
    "@functools.lru_cache\n",
    "def scrape_problems(url):\n",
    "    problem_types = []\n",
    "    page = requests.get(url)\n",
    "    problem_soup = BeautifulSoup(page.content, \"html.parser\")\n",
    "    problems = problem_soup.find_all(text=problem_filter)\n",
    "    for problem in problems:\n",
    "        m = re.findall(problem_filter, problem)\n",
    "        problem_types.append(m[0])\n",
    "    return tuple(problem_types)"
   ]
  },
  {
   "cell_type": "code",
   "execution_count": 27,
   "id": "76b321d9-10ab-4c0f-9972-04bdcea5cae0",
   "metadata": {},
   "outputs": [
    {
     "name": "stdout",
     "output_type": "stream",
     "text": [
      "https://www.sierraavalanchecenter.org/prior-jan-6-2021/archive\n"
     ]
    }
   ],
   "source": [
    "url = BASE_URL + URL\n",
    "print(url)\n",
    "page = requests.get(url)"
   ]
  },
  {
   "cell_type": "code",
   "execution_count": 28,
   "id": "bd6006d9-46a1-4513-992e-f25c90fdee08",
   "metadata": {},
   "outputs": [],
   "source": [
    "soup = BeautifulSoup(page.content, \"html.parser\")\n",
    "rows = soup.find('tbody').find_all(\"tr\")"
   ]
  },
  {
   "cell_type": "code",
   "execution_count": 29,
   "id": "69295a36-811b-40c4-8a27-f8778ce22390",
   "metadata": {},
   "outputs": [
    {
     "name": "stdout",
     "output_type": "stream",
     "text": [
      "<img src=\"/sites/all/themes/responsive_sac/img/rating-icons/2.png\"/>\n",
      "/advisory/2021/jan/8/2021-01-08-065831-avalanche-forecast\n",
      "2021-01-08\n",
      "https://www.sierraavalanchecenter.org/advisory/2021/jan/8/2021-01-08-065831-avalanche-forecast\n",
      "moderate\n",
      "('Wind Slab', 'Persistent Slab')\n"
     ]
    }
   ],
   "source": [
    "row = rows[0]\n",
    "td = row.find('td')\n",
    "report = td.find('a').get('href')\n",
    "date_str = prog.findall(td.find('strong').text)[0]\n",
    "img = td.find(\"img\")\n",
    "print(img)\n",
    "print(report)\n",
    "print(date_str)\n",
    "rating = get_rating(img)\n",
    "problem_url = BASE_URL + report\n",
    "print(problem_url)\n",
    "problems = scrape_problems(problem_url)\n",
    "print(rating)\n",
    "print(problems)"
   ]
  },
  {
   "cell_type": "code",
   "execution_count": 30,
   "id": "1364b728",
   "metadata": {},
   "outputs": [],
   "source": [
    "def scrape_url(data, url):\n",
    "    page = requests.get(url)\n",
    "    soup = BeautifulSoup(page.content, \"html.parser\")\n",
    "    rows = soup.find('tbody').find_all(\"tr\")\n",
    "    for row in rows:\n",
    "        td = row.find('td')\n",
    "        report = td.find('a').get('href')\n",
    "        date_str = prog.findall(td.find('strong').text)[0]\n",
    "        date = datetime.datetime.strptime(date_str, '%Y-%m-%d')\n",
    "        img = td.find(\"img\")\n",
    "        rating = get_rating(img)\n",
    "        problem_url = BASE_URL + report\n",
    "        try:\n",
    "            problems = scrape_problems(problem_url)\n",
    "        except:\n",
    "            problems = ['NA']\n",
    "        if rating:\n",
    "            data.append([date, rating, problem_url, problems])\n",
    "    try:\n",
    "        next_url = soup.find('li', class_='pager-next').find('a').get('href')\n",
    "    except AttributeError:\n",
    "        next_url = False\n",
    "    return data, next_url"
   ]
  },
  {
   "cell_type": "code",
   "execution_count": 31,
   "id": "a4dda572",
   "metadata": {},
   "outputs": [
    {
     "data": {
      "application/vnd.jupyter.widget-view+json": {
       "model_id": "55872964a8964c93bb234a1c7e4bc147",
       "version_major": 2,
       "version_minor": 0
      },
      "text/plain": [
       "  0%|          | 0/22 [00:00<?, ?it/s]"
      ]
     },
     "metadata": {},
     "output_type": "display_data"
    }
   ],
   "source": [
    "data = []\n",
    "url = URL\n",
    "with tqdm(total=22) as pbar:\n",
    "    while url:\n",
    "        data, url = scrape_url(data, BASE_URL + url)\n",
    "        pbar.update()"
   ]
  },
  {
   "cell_type": "code",
   "execution_count": 32,
   "id": "fc989474",
   "metadata": {},
   "outputs": [],
   "source": [
    "df = pd.DataFrame(data, columns =['date', 'rating', 'report', 'problems'])"
   ]
  },
  {
   "cell_type": "code",
   "execution_count": 33,
   "id": "722bc461",
   "metadata": {},
   "outputs": [
    {
     "data": {
      "text/html": [
       "<div>\n",
       "<style scoped>\n",
       "    .dataframe tbody tr th:only-of-type {\n",
       "        vertical-align: middle;\n",
       "    }\n",
       "\n",
       "    .dataframe tbody tr th {\n",
       "        vertical-align: top;\n",
       "    }\n",
       "\n",
       "    .dataframe thead th {\n",
       "        text-align: right;\n",
       "    }\n",
       "</style>\n",
       "<table border=\"1\" class=\"dataframe\">\n",
       "  <thead>\n",
       "    <tr style=\"text-align: right;\">\n",
       "      <th></th>\n",
       "      <th>date</th>\n",
       "      <th>rating</th>\n",
       "      <th>report</th>\n",
       "      <th>problems</th>\n",
       "    </tr>\n",
       "  </thead>\n",
       "  <tbody>\n",
       "    <tr>\n",
       "      <th>0</th>\n",
       "      <td>2021-01-08</td>\n",
       "      <td>moderate</td>\n",
       "      <td>https://www.sierraavalanchecenter.org/advisory...</td>\n",
       "      <td>(Wind Slab, Persistent Slab)</td>\n",
       "    </tr>\n",
       "    <tr>\n",
       "      <th>1</th>\n",
       "      <td>2021-01-06</td>\n",
       "      <td>moderate</td>\n",
       "      <td>https://www.sierraavalanchecenter.org/advisory...</td>\n",
       "      <td>(Persistent Slab, Wind Slab)</td>\n",
       "    </tr>\n",
       "    <tr>\n",
       "      <th>2</th>\n",
       "      <td>2021-01-05</td>\n",
       "      <td>considerable</td>\n",
       "      <td>https://www.sierraavalanchecenter.org/advisory...</td>\n",
       "      <td>(Persistent Slab, Wind Slab)</td>\n",
       "    </tr>\n",
       "    <tr>\n",
       "      <th>3</th>\n",
       "      <td>2021-01-04</td>\n",
       "      <td>high</td>\n",
       "      <td>https://www.sierraavalanchecenter.org/advisory...</td>\n",
       "      <td>(Persistent Slab, Wind Slab, Storm Slab)</td>\n",
       "    </tr>\n",
       "    <tr>\n",
       "      <th>4</th>\n",
       "      <td>2021-01-03</td>\n",
       "      <td>moderate</td>\n",
       "      <td>https://www.sierraavalanchecenter.org/advisory...</td>\n",
       "      <td>(Persistent Slab,)</td>\n",
       "    </tr>\n",
       "  </tbody>\n",
       "</table>\n",
       "</div>"
      ],
      "text/plain": [
       "        date        rating                                             report  \\\n",
       "0 2021-01-08      moderate  https://www.sierraavalanchecenter.org/advisory...   \n",
       "1 2021-01-06      moderate  https://www.sierraavalanchecenter.org/advisory...   \n",
       "2 2021-01-05  considerable  https://www.sierraavalanchecenter.org/advisory...   \n",
       "3 2021-01-04          high  https://www.sierraavalanchecenter.org/advisory...   \n",
       "4 2021-01-03      moderate  https://www.sierraavalanchecenter.org/advisory...   \n",
       "\n",
       "                                   problems  \n",
       "0              (Wind Slab, Persistent Slab)  \n",
       "1              (Persistent Slab, Wind Slab)  \n",
       "2              (Persistent Slab, Wind Slab)  \n",
       "3  (Persistent Slab, Wind Slab, Storm Slab)  \n",
       "4                        (Persistent Slab,)  "
      ]
     },
     "execution_count": 33,
     "metadata": {},
     "output_type": "execute_result"
    }
   ],
   "source": [
    "df.head()"
   ]
  },
  {
   "cell_type": "code",
   "execution_count": 34,
   "id": "1cee445e-9b05-4f88-9da4-b8a91e2047ce",
   "metadata": {},
   "outputs": [
    {
     "data": {
      "text/html": [
       "<div>\n",
       "<style scoped>\n",
       "    .dataframe tbody tr th:only-of-type {\n",
       "        vertical-align: middle;\n",
       "    }\n",
       "\n",
       "    .dataframe tbody tr th {\n",
       "        vertical-align: top;\n",
       "    }\n",
       "\n",
       "    .dataframe thead th {\n",
       "        text-align: right;\n",
       "    }\n",
       "</style>\n",
       "<table border=\"1\" class=\"dataframe\">\n",
       "  <thead>\n",
       "    <tr style=\"text-align: right;\">\n",
       "      <th></th>\n",
       "      <th>date</th>\n",
       "      <th>rating</th>\n",
       "      <th>report</th>\n",
       "      <th>problems</th>\n",
       "    </tr>\n",
       "  </thead>\n",
       "  <tbody>\n",
       "    <tr>\n",
       "      <th>1841</th>\n",
       "      <td>2008-12-21</td>\n",
       "      <td>low</td>\n",
       "      <td>https://www.sierraavalanchecenter.org/content/...</td>\n",
       "      <td>()</td>\n",
       "    </tr>\n",
       "    <tr>\n",
       "      <th>1842</th>\n",
       "      <td>2008-12-20</td>\n",
       "      <td>low</td>\n",
       "      <td>https://www.sierraavalanchecenter.org/content/...</td>\n",
       "      <td>()</td>\n",
       "    </tr>\n",
       "    <tr>\n",
       "      <th>1843</th>\n",
       "      <td>2008-12-19</td>\n",
       "      <td>considerable</td>\n",
       "      <td>https://www.sierraavalanchecenter.org/content/...</td>\n",
       "      <td>()</td>\n",
       "    </tr>\n",
       "    <tr>\n",
       "      <th>1844</th>\n",
       "      <td>2008-12-18</td>\n",
       "      <td>low</td>\n",
       "      <td>https://www.sierraavalanchecenter.org/content/...</td>\n",
       "      <td>()</td>\n",
       "    </tr>\n",
       "    <tr>\n",
       "      <th>1845</th>\n",
       "      <td>2008-12-17</td>\n",
       "      <td>low</td>\n",
       "      <td>https://www.sierraavalanchecenter.org/content/...</td>\n",
       "      <td>()</td>\n",
       "    </tr>\n",
       "  </tbody>\n",
       "</table>\n",
       "</div>"
      ],
      "text/plain": [
       "           date        rating  \\\n",
       "1841 2008-12-21           low   \n",
       "1842 2008-12-20           low   \n",
       "1843 2008-12-19  considerable   \n",
       "1844 2008-12-18           low   \n",
       "1845 2008-12-17           low   \n",
       "\n",
       "                                                 report problems  \n",
       "1841  https://www.sierraavalanchecenter.org/content/...       ()  \n",
       "1842  https://www.sierraavalanchecenter.org/content/...       ()  \n",
       "1843  https://www.sierraavalanchecenter.org/content/...       ()  \n",
       "1844  https://www.sierraavalanchecenter.org/content/...       ()  \n",
       "1845  https://www.sierraavalanchecenter.org/content/...       ()  "
      ]
     },
     "execution_count": 34,
     "metadata": {},
     "output_type": "execute_result"
    }
   ],
   "source": [
    "df.tail()"
   ]
  },
  {
   "cell_type": "code",
   "execution_count": 35,
   "id": "35def44e",
   "metadata": {},
   "outputs": [
    {
     "data": {
      "text/plain": [
       "moderate        928\n",
       "low             539\n",
       "considerable    259\n",
       "high             62\n",
       "na               56\n",
       "extreme           2\n",
       "Name: rating, dtype: int64"
      ]
     },
     "execution_count": 35,
     "metadata": {},
     "output_type": "execute_result"
    }
   ],
   "source": [
    "df.rating.value_counts()"
   ]
  },
  {
   "cell_type": "code",
   "execution_count": 40,
   "id": "6655591c",
   "metadata": {},
   "outputs": [
    {
     "data": {
      "text/plain": [
       "0.5027085590465872"
      ]
     },
     "execution_count": 40,
     "metadata": {},
     "output_type": "execute_result"
    }
   ],
   "source": []
  },
  {
   "cell_type": "code",
   "execution_count": 36,
   "id": "0617145c",
   "metadata": {},
   "outputs": [
    {
     "data": {
      "text/html": [
       "<div>\n",
       "<style scoped>\n",
       "    .dataframe tbody tr th:only-of-type {\n",
       "        vertical-align: middle;\n",
       "    }\n",
       "\n",
       "    .dataframe tbody tr th {\n",
       "        vertical-align: top;\n",
       "    }\n",
       "\n",
       "    .dataframe thead th {\n",
       "        text-align: right;\n",
       "    }\n",
       "</style>\n",
       "<table border=\"1\" class=\"dataframe\">\n",
       "  <thead>\n",
       "    <tr style=\"text-align: right;\">\n",
       "      <th></th>\n",
       "      <th>date</th>\n",
       "      <th>rating</th>\n",
       "      <th>report</th>\n",
       "      <th>problems</th>\n",
       "    </tr>\n",
       "  </thead>\n",
       "  <tbody>\n",
       "    <tr>\n",
       "      <th>0</th>\n",
       "      <td>2021-01-08</td>\n",
       "      <td>moderate</td>\n",
       "      <td>https://www.sierraavalanchecenter.org/advisory...</td>\n",
       "      <td>(Wind Slab, Persistent Slab)</td>\n",
       "    </tr>\n",
       "    <tr>\n",
       "      <th>1</th>\n",
       "      <td>2021-01-06</td>\n",
       "      <td>moderate</td>\n",
       "      <td>https://www.sierraavalanchecenter.org/advisory...</td>\n",
       "      <td>(Persistent Slab, Wind Slab)</td>\n",
       "    </tr>\n",
       "    <tr>\n",
       "      <th>2</th>\n",
       "      <td>2021-01-05</td>\n",
       "      <td>considerable</td>\n",
       "      <td>https://www.sierraavalanchecenter.org/advisory...</td>\n",
       "      <td>(Persistent Slab, Wind Slab)</td>\n",
       "    </tr>\n",
       "    <tr>\n",
       "      <th>3</th>\n",
       "      <td>2021-01-04</td>\n",
       "      <td>high</td>\n",
       "      <td>https://www.sierraavalanchecenter.org/advisory...</td>\n",
       "      <td>(Persistent Slab, Wind Slab, Storm Slab)</td>\n",
       "    </tr>\n",
       "    <tr>\n",
       "      <th>4</th>\n",
       "      <td>2021-01-03</td>\n",
       "      <td>moderate</td>\n",
       "      <td>https://www.sierraavalanchecenter.org/advisory...</td>\n",
       "      <td>(Persistent Slab,)</td>\n",
       "    </tr>\n",
       "  </tbody>\n",
       "</table>\n",
       "</div>"
      ],
      "text/plain": [
       "        date        rating                                             report  \\\n",
       "0 2021-01-08      moderate  https://www.sierraavalanchecenter.org/advisory...   \n",
       "1 2021-01-06      moderate  https://www.sierraavalanchecenter.org/advisory...   \n",
       "2 2021-01-05  considerable  https://www.sierraavalanchecenter.org/advisory...   \n",
       "3 2021-01-04          high  https://www.sierraavalanchecenter.org/advisory...   \n",
       "4 2021-01-03      moderate  https://www.sierraavalanchecenter.org/advisory...   \n",
       "\n",
       "                                   problems  \n",
       "0              (Wind Slab, Persistent Slab)  \n",
       "1              (Persistent Slab, Wind Slab)  \n",
       "2              (Persistent Slab, Wind Slab)  \n",
       "3  (Persistent Slab, Wind Slab, Storm Slab)  \n",
       "4                        (Persistent Slab,)  "
      ]
     },
     "execution_count": 36,
     "metadata": {},
     "output_type": "execute_result"
    }
   ],
   "source": [
    "df.head()"
   ]
  },
  {
   "cell_type": "code",
   "execution_count": null,
   "id": "d255f358",
   "metadata": {},
   "outputs": [],
   "source": []
  },
  {
   "cell_type": "code",
   "execution_count": 38,
   "id": "7d424871",
   "metadata": {},
   "outputs": [],
   "source": [
    "# df.to_pickle(f'./data/avy_data_old.pkl')"
   ]
  },
  {
   "cell_type": "code",
   "execution_count": null,
   "id": "2cc0e01f-9c8f-469f-86e9-97a55091773e",
   "metadata": {},
   "outputs": [],
   "source": []
  }
 ],
 "metadata": {
  "kernelspec": {
   "display_name": "Python 3 (ipykernel)",
   "language": "python",
   "name": "python3"
  },
  "language_info": {
   "codemirror_mode": {
    "name": "ipython",
    "version": 3
   },
   "file_extension": ".py",
   "mimetype": "text/x-python",
   "name": "python",
   "nbconvert_exporter": "python",
   "pygments_lexer": "ipython3",
   "version": "3.9.11"
  }
 },
 "nbformat": 4,
 "nbformat_minor": 5
}
