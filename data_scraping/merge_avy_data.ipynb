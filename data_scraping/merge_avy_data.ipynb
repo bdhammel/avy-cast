{
 "cells": [
  {
   "cell_type": "code",
   "execution_count": 1,
   "id": "54d2797b-cbd2-4b2b-8400-5a8e4331d034",
   "metadata": {},
   "outputs": [],
   "source": [
    "import pandas as pd"
   ]
  },
  {
   "cell_type": "code",
   "execution_count": 32,
   "id": "fbf01548-2d66-413a-a32b-3ea0c15ffad5",
   "metadata": {},
   "outputs": [],
   "source": [
    "old_data = pd.read_pickle('../data/avy_data_old.pkl')\n",
    "new_data = pd.read_pickle('../data/avy_data_new.pkl')"
   ]
  },
  {
   "cell_type": "code",
   "execution_count": null,
   "id": "277f4d84-863e-4c24-9f30-d8871f891711",
   "metadata": {},
   "outputs": [],
   "source": []
  },
  {
   "cell_type": "code",
   "execution_count": 33,
   "id": "419bc30c-5c23-4af8-ab7d-94bac5b87f57",
   "metadata": {},
   "outputs": [],
   "source": [
    "def clean_date(df):\n",
    "    return df.apply(lambda x: x.date.date(), axis=1)"
   ]
  },
  {
   "cell_type": "code",
   "execution_count": 34,
   "id": "fbe29b85-3e07-41de-931e-5f0f8564589e",
   "metadata": {},
   "outputs": [],
   "source": [
    "new_data['date'] = clean_date(new_data)\n",
    "old_data['date'] = clean_date(old_data)"
   ]
  },
  {
   "cell_type": "code",
   "execution_count": 49,
   "id": "82224291-d623-409e-9eda-4e1969882473",
   "metadata": {},
   "outputs": [],
   "source": [
    "), axis=1)"
   ]
  },
  {
   "cell_type": "code",
   "execution_count": 48,
   "id": "325366ed-38c8-4f64-982b-3deafb4f6bd1",
   "metadata": {},
   "outputs": [],
   "source": [
    "new_data['problems'] = clean_problems(new_data)\n",
    "old_data['problems'] = clean_problems(old_data)"
   ]
  },
  {
   "cell_type": "code",
   "execution_count": 49,
   "id": "5889831c",
   "metadata": {},
   "outputs": [],
   "source": [
    "), axis=1)"
   ]
  },
  {
   "cell_type": "code",
   "execution_count": 41,
   "id": "08edd114-86da-46dc-96f2-177e6241530d",
   "metadata": {},
   "outputs": [],
   "source": [
    "def remove_duplicates(df_):\n",
    "    df = df_.copy()\n",
    "    \n",
    "    dups = df.duplicated(['date'], keep=False)\n",
    "    dup_dates = set(df[dups].date)\n",
    "    for dup_date in dup_dates:\n",
    "        dup_rows = df[df.date == dup_date]\n",
    "        assert len(dup_rows) == 2, dup_rows\n",
    "        empty = dup_rows[dup_rows.problems == ()]\n",
    "        if len(empty) == 1:\n",
    "            idx = empty.index\n",
    "        elif len(empty) == 0:\n",
    "            assert len(set(dup_rows.problems)) == 1, dup_rows\n",
    "            idx = dup_rows.index[0]\n",
    "        elif len(empty) == 2:\n",
    "            idx = empty.index[0]\n",
    "        else:\n",
    "            raise AssertionError\n",
    "            \n",
    "    df.drop(index=idx, inplace=True)\n",
    "    return df"
   ]
  },
  {
   "cell_type": "code",
   "execution_count": 42,
   "id": "e5262b92-d792-495b-bd1b-48203ad777e4",
   "metadata": {},
   "outputs": [
    {
     "ename": "AssertionError",
     "evalue": "           date        rating  \\\n412  2018-03-04  considerable   \n413  2018-03-04      moderate   \n\n                                                report  \\\n412  https://www.sierraavalanchecenter.org/advisory...   \n413  https://www.sierraavalanchecenter.org/advisory...   \n\n                              problems  \n412  (Deep Slab, Wind Slab, Loose Wet)  \n413  (Wind Slab, Deep Slab, Loose Wet)  ",
     "output_type": "error",
     "traceback": [
      "\u001b[0;31m---------------------------------------------------------------------------\u001b[0m",
      "\u001b[0;31mAssertionError\u001b[0m                            Traceback (most recent call last)",
      "Input \u001b[0;32mIn [42]\u001b[0m, in \u001b[0;36m<cell line: 2>\u001b[0;34m()\u001b[0m\n\u001b[1;32m      1\u001b[0m new_data \u001b[38;5;241m=\u001b[39m remove_duplicates(new_data)\n\u001b[0;32m----> 2\u001b[0m old_data \u001b[38;5;241m=\u001b[39m \u001b[43mremove_duplicates\u001b[49m\u001b[43m(\u001b[49m\u001b[43mold_data\u001b[49m\u001b[43m)\u001b[49m\n",
      "Input \u001b[0;32mIn [41]\u001b[0m, in \u001b[0;36mremove_duplicates\u001b[0;34m(df_)\u001b[0m\n\u001b[1;32m     11\u001b[0m     idx \u001b[38;5;241m=\u001b[39m empty\u001b[38;5;241m.\u001b[39mindex\n\u001b[1;32m     12\u001b[0m \u001b[38;5;28;01melif\u001b[39;00m \u001b[38;5;28mlen\u001b[39m(empty) \u001b[38;5;241m==\u001b[39m \u001b[38;5;241m0\u001b[39m:\n\u001b[0;32m---> 13\u001b[0m     \u001b[38;5;28;01massert\u001b[39;00m \u001b[38;5;28mlen\u001b[39m(\u001b[38;5;28mset\u001b[39m(dup_rows\u001b[38;5;241m.\u001b[39mproblems)) \u001b[38;5;241m==\u001b[39m \u001b[38;5;241m1\u001b[39m, dup_rows\n\u001b[1;32m     14\u001b[0m     idx \u001b[38;5;241m=\u001b[39m dup_rows\u001b[38;5;241m.\u001b[39mindex[\u001b[38;5;241m0\u001b[39m]\n\u001b[1;32m     15\u001b[0m \u001b[38;5;28;01melif\u001b[39;00m \u001b[38;5;28mlen\u001b[39m(empty) \u001b[38;5;241m==\u001b[39m \u001b[38;5;241m2\u001b[39m:\n",
      "\u001b[0;31mAssertionError\u001b[0m:            date        rating  \\\n412  2018-03-04  considerable   \n413  2018-03-04      moderate   \n\n                                                report  \\\n412  https://www.sierraavalanchecenter.org/advisory...   \n413  https://www.sierraavalanchecenter.org/advisory...   \n\n                              problems  \n412  (Deep Slab, Wind Slab, Loose Wet)  \n413  (Wind Slab, Deep Slab, Loose Wet)  "
     ]
    }
   ],
   "source": [
    "new_data = remove_duplicates(new_data)\n",
    "old_data = remove_duplicates(old_data)"
   ]
  },
  {
   "cell_type": "code",
   "execution_count": 25,
   "id": "3bc3ca90-2aef-4254-b426-99819f0b48bf",
   "metadata": {},
   "outputs": [],
   "source": []
  },
  {
   "cell_type": "code",
   "execution_count": 26,
   "id": "cb6b630e-ebfe-4152-8152-58a594a83e75",
   "metadata": {},
   "outputs": [],
   "source": []
  },
  {
   "cell_type": "code",
   "execution_count": 27,
   "id": "2af99f42-d1da-4bc8-8317-e8f20078a1be",
   "metadata": {},
   "outputs": [
    {
     "data": {
      "text/plain": [
       "False"
      ]
     },
     "execution_count": 27,
     "metadata": {},
     "output_type": "execute_result"
    }
   ],
   "source": []
  },
  {
   "cell_type": "code",
   "execution_count": 7,
   "id": "f445f689-5e28-4286-8b10-bb8f51c05cd3",
   "metadata": {},
   "outputs": [],
   "source": [
    "overlap_dates = set(dates_in_new) & set(dates_in_old)"
   ]
  },
  {
   "cell_type": "code",
   "execution_count": 11,
   "id": "9fb5a980-8679-4f8c-b917-7f5bb98dd6cf",
   "metadata": {},
   "outputs": [
    {
     "name": "stdout",
     "output_type": "stream",
     "text": [
      "          date    rating                                             report  \\\n",
      "61  2020-04-24  moderate  https://www.sierraavalanchecenter.org/advisory...   \n",
      "\n",
      "                problems  \n",
      "61  (Loose Wet, Cornice)  \n",
      "           date    rating                                             report  \\\n",
      "372  2020-04-24  moderate  https://api.avalanche.org/v2/public/product/89879   \n",
      "\n",
      "    problems  \n",
      "372       ()  \n"
     ]
    }
   ],
   "source": [
    "for date in overlap_dates:\n",
    "    print(old_data[old_data.date == date])\n",
    "    print(new_data[new_data.date == date])\n",
    "    break"
   ]
  },
  {
   "cell_type": "code",
   "execution_count": null,
   "id": "a3789cb1-d6a8-4246-b089-cd7227634b71",
   "metadata": {},
   "outputs": [],
   "source": []
  },
  {
   "cell_type": "code",
   "execution_count": null,
   "id": "e4338279-8916-474a-8d33-bbb242461009",
   "metadata": {},
   "outputs": [],
   "source": []
  },
  {
   "cell_type": "code",
   "execution_count": null,
   "id": "51a7d8b9-2ee5-4b1e-9180-6f8f92db5dc0",
   "metadata": {},
   "outputs": [],
   "source": []
  },
  {
   "cell_type": "code",
   "execution_count": null,
   "id": "7dbca62d-972c-4a3a-b62a-bdf1dffee1e0",
   "metadata": {},
   "outputs": [],
   "source": [
    "df = pd.concat([old_data, new_data])"
   ]
  },
  {
   "cell_type": "code",
   "execution_count": null,
   "id": "7aabd129-b303-4869-b0d9-f0c20ad2fa06",
   "metadata": {},
   "outputs": [],
   "source": []
  },
  {
   "cell_type": "code",
   "execution_count": null,
   "id": "9a3ada95-dd56-44e1-946a-41598447762e",
   "metadata": {},
   "outputs": [],
   "source": [
    "df.rating.value_counts()"
   ]
  },
  {
   "cell_type": "code",
   "execution_count": null,
   "id": "7bc5f7bf-7c1f-444f-bf83-fd5b886ebcd1",
   "metadata": {},
   "outputs": [],
   "source": [
    "df = df.sort_values('date').reset_index(drop=True)"
   ]
  },
  {
   "cell_type": "code",
   "execution_count": null,
   "id": "16c6be71-7d3c-4665-9db0-b1b6fc870c75",
   "metadata": {},
   "outputs": [],
   "source": [
    "dups = df.date.duplicated()"
   ]
  },
  {
   "cell_type": "code",
   "execution_count": null,
   "id": "9c4748f9-bdce-4b29-8d25-7699ecdd2d3c",
   "metadata": {},
   "outputs": [],
   "source": [
    "dups_df = df[dups == True]"
   ]
  },
  {
   "cell_type": "code",
   "execution_count": null,
   "id": "2383a314-dd5c-4424-ace1-36dd2126eb4e",
   "metadata": {},
   "outputs": [],
   "source": [
    "dups_df"
   ]
  },
  {
   "cell_type": "code",
   "execution_count": null,
   "id": "35844556-c5a1-430d-96c1-cfa6610ac066",
   "metadata": {},
   "outputs": [],
   "source": [
    "def add_num_rating(df):\n",
    "    dvalues = [0, 1, 2, 3, 4, 5]\n",
    "    conditions = (\n",
    "        df['rating'] == 'na',\n",
    "        df['rating'] == 'low',\n",
    "        df['rating'] == 'moderate',\n",
    "        df['rating'] == 'considerable',\n",
    "        df['rating'] == 'high',\n",
    "        df['rating'] == 'extream',\n",
    "    )\n",
    "    df['num_rating'] = np.select(conditions, values)\n",
    "    return df\n",
    "\n",
    "new_data = add_num_rating(new_data)\n",
    "old_data = add_num_rating(old_data) "
   ]
  }
 ],
 "metadata": {
  "kernelspec": {
   "display_name": "Python 3 (ipykernel)",
   "language": "python",
   "name": "python3"
  },
  "language_info": {
   "codemirror_mode": {
    "name": "ipython",
    "version": 3
   },
   "file_extension": ".py",
   "mimetype": "text/x-python",
   "name": "python",
   "nbconvert_exporter": "python",
   "pygments_lexer": "ipython3",
   "version": "3.9.11"
  }
 },
 "nbformat": 4,
 "nbformat_minor": 5
}
