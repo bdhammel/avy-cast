{
 "cells": [
  {
   "cell_type": "code",
   "execution_count": 1,
   "id": "b19e2d5a",
   "metadata": {},
   "outputs": [],
   "source": [
    "import requests\n",
    "from bs4 import BeautifulSoup\n",
    "import re\n",
    "import datetime\n",
    "# https://www.sierraavalanchecenter.org/avalanche-problems"
   ]
  },
  {
   "cell_type": "code",
   "execution_count": 157,
   "id": "06d49200",
   "metadata": {},
   "outputs": [],
   "source": [
    "url = 'https://www.sierraavalanchecenter.org/advisory/2021/jan/8/2021-01-08-065831-avalanche-forecast'"
   ]
  },
  {
   "cell_type": "code",
   "execution_count": 158,
   "id": "023a235f",
   "metadata": {},
   "outputs": [],
   "source": [
    "page = requests.get(url)\n",
    "soup = BeautifulSoup(page.content, \"html.parser\")"
   ]
  },
  {
   "cell_type": "code",
   "execution_count": 163,
   "id": "6dbd38d1",
   "metadata": {},
   "outputs": [],
   "source": [
    "problem_filter = re.compile(\"Avalanche Problem \\d: ([\\w\\s]*)\")\n",
    "problems = soup.find_all(text=problem_filter)"
   ]
  },
  {
   "cell_type": "code",
   "execution_count": 164,
   "id": "27a9838c",
   "metadata": {},
   "outputs": [
    {
     "data": {
      "text/plain": [
       "['Avalanche Problem 1: Wind Slab', 'Avalanche Problem 2: Persistent Slab']"
      ]
     },
     "execution_count": 164,
     "metadata": {},
     "output_type": "execute_result"
    }
   ],
   "source": [
    "problems"
   ]
  },
  {
   "cell_type": "code",
   "execution_count": 169,
   "id": "8226c60b",
   "metadata": {},
   "outputs": [
    {
     "name": "stdout",
     "output_type": "stream",
     "text": [
      "['Wind Slab']\n",
      "['Persistent Slab']\n"
     ]
    }
   ],
   "source": [
    "for problem in problems:\n",
    "    m = re.findall(problem_filter, problem)\n",
    "    print(m)"
   ]
  },
  {
   "cell_type": "code",
   "execution_count": 173,
   "id": "eb5ec53c",
   "metadata": {},
   "outputs": [
    {
     "data": {
      "text/plain": [
       "'Avalanche Problem 2: Persistent Slab'"
      ]
     },
     "execution_count": 173,
     "metadata": {},
     "output_type": "execute_result"
    }
   ],
   "source": []
  },
  {
   "cell_type": "code",
   "execution_count": null,
   "id": "376dfc67",
   "metadata": {},
   "outputs": [],
   "source": []
  },
  {
   "cell_type": "code",
   "execution_count": null,
   "id": "a82abb5a",
   "metadata": {},
   "outputs": [],
   "source": []
  },
  {
   "cell_type": "code",
   "execution_count": null,
   "id": "e61a2b70",
   "metadata": {},
   "outputs": [],
   "source": []
  }
 ],
 "metadata": {
  "kernelspec": {
   "display_name": "Python 3 (ipykernel)",
   "language": "python",
   "name": "python3"
  },
  "language_info": {
   "codemirror_mode": {
    "name": "ipython",
    "version": 3
   },
   "file_extension": ".py",
   "mimetype": "text/x-python",
   "name": "python",
   "nbconvert_exporter": "python",
   "pygments_lexer": "ipython3",
   "version": "3.9.7"
  }
 },
 "nbformat": 4,
 "nbformat_minor": 5
}
