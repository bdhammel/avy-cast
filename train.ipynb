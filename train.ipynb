{
 "cells": [
  {
   "cell_type": "code",
   "execution_count": 35,
   "id": "f702360b",
   "metadata": {},
   "outputs": [],
   "source": [
    "import pandas as pd\n",
    "from sklearn.metrics import ConfusionMatrixDisplay\n",
    "import matplotlib.pyplot as plt"
   ]
  },
  {
   "cell_type": "code",
   "execution_count": 8,
   "id": "e88e77fb",
   "metadata": {},
   "outputs": [],
   "source": [
    "train_df = pd.read_csv('./data/train.csv').drop(['index', 'Unnamed: 0'], axis=1)\n",
    "test_df = pd.read_csv('./data/test.csv').drop(['index', 'Unnamed: 0'], axis=1)"
   ]
  },
  {
   "cell_type": "code",
   "execution_count": 9,
   "id": "610eaac8",
   "metadata": {},
   "outputs": [
    {
     "data": {
      "text/html": [
       "<div>\n",
       "<style scoped>\n",
       "    .dataframe tbody tr th:only-of-type {\n",
       "        vertical-align: middle;\n",
       "    }\n",
       "\n",
       "    .dataframe tbody tr th {\n",
       "        vertical-align: top;\n",
       "    }\n",
       "\n",
       "    .dataframe thead th {\n",
       "        text-align: right;\n",
       "    }\n",
       "</style>\n",
       "<table border=\"1\" class=\"dataframe\">\n",
       "  <thead>\n",
       "    <tr style=\"text-align: right;\">\n",
       "      <th></th>\n",
       "      <th>0</th>\n",
       "      <th>1</th>\n",
       "      <th>2</th>\n",
       "      <th>3</th>\n",
       "      <th>4</th>\n",
       "      <th>5</th>\n",
       "      <th>6</th>\n",
       "      <th>7</th>\n",
       "      <th>8</th>\n",
       "      <th>9</th>\n",
       "      <th>10</th>\n",
       "      <th>11</th>\n",
       "      <th>12</th>\n",
       "      <th>13</th>\n",
       "      <th>14</th>\n",
       "    </tr>\n",
       "  </thead>\n",
       "  <tbody>\n",
       "    <tr>\n",
       "      <th>0</th>\n",
       "      <td>43.733333</td>\n",
       "      <td>5.466667</td>\n",
       "      <td>-7.420000</td>\n",
       "      <td>11.900000</td>\n",
       "      <td>1.0</td>\n",
       "      <td>41.533333</td>\n",
       "      <td>9.200000</td>\n",
       "      <td>-5.860000</td>\n",
       "      <td>15.966667</td>\n",
       "      <td>3.0</td>\n",
       "      <td>44.200000</td>\n",
       "      <td>3.733333</td>\n",
       "      <td>-2.813333</td>\n",
       "      <td>6.400000</td>\n",
       "      <td>1.0</td>\n",
       "    </tr>\n",
       "    <tr>\n",
       "      <th>1</th>\n",
       "      <td>40.866667</td>\n",
       "      <td>14.266667</td>\n",
       "      <td>-0.206667</td>\n",
       "      <td>8.266667</td>\n",
       "      <td>1.0</td>\n",
       "      <td>50.733333</td>\n",
       "      <td>9.866667</td>\n",
       "      <td>-6.540000</td>\n",
       "      <td>12.433333</td>\n",
       "      <td>3.0</td>\n",
       "      <td>65.666667</td>\n",
       "      <td>8.400000</td>\n",
       "      <td>-8.086667</td>\n",
       "      <td>7.300000</td>\n",
       "      <td>2.0</td>\n",
       "    </tr>\n",
       "    <tr>\n",
       "      <th>2</th>\n",
       "      <td>65.200000</td>\n",
       "      <td>18.800000</td>\n",
       "      <td>-3.260000</td>\n",
       "      <td>10.200000</td>\n",
       "      <td>2.0</td>\n",
       "      <td>74.800000</td>\n",
       "      <td>44.600000</td>\n",
       "      <td>-7.293333</td>\n",
       "      <td>11.900000</td>\n",
       "      <td>3.0</td>\n",
       "      <td>105.133333</td>\n",
       "      <td>3.066667</td>\n",
       "      <td>-11.266667</td>\n",
       "      <td>3.700000</td>\n",
       "      <td>2.0</td>\n",
       "    </tr>\n",
       "    <tr>\n",
       "      <th>3</th>\n",
       "      <td>100.666667</td>\n",
       "      <td>3.400000</td>\n",
       "      <td>-2.993333</td>\n",
       "      <td>4.633333</td>\n",
       "      <td>1.0</td>\n",
       "      <td>91.933333</td>\n",
       "      <td>1.533333</td>\n",
       "      <td>0.900000</td>\n",
       "      <td>6.100000</td>\n",
       "      <td>1.0</td>\n",
       "      <td>88.933333</td>\n",
       "      <td>0.000000</td>\n",
       "      <td>2.020000</td>\n",
       "      <td>10.400000</td>\n",
       "      <td>1.0</td>\n",
       "    </tr>\n",
       "    <tr>\n",
       "      <th>4</th>\n",
       "      <td>77.000000</td>\n",
       "      <td>15.066667</td>\n",
       "      <td>-1.653333</td>\n",
       "      <td>12.466667</td>\n",
       "      <td>2.0</td>\n",
       "      <td>85.800000</td>\n",
       "      <td>0.000000</td>\n",
       "      <td>-9.320000</td>\n",
       "      <td>2.533333</td>\n",
       "      <td>2.0</td>\n",
       "      <td>83.266667</td>\n",
       "      <td>0.000000</td>\n",
       "      <td>-7.046667</td>\n",
       "      <td>3.966667</td>\n",
       "      <td>1.0</td>\n",
       "    </tr>\n",
       "  </tbody>\n",
       "</table>\n",
       "</div>"
      ],
      "text/plain": [
       "            0          1         2          3    4          5          6  \\\n",
       "0   43.733333   5.466667 -7.420000  11.900000  1.0  41.533333   9.200000   \n",
       "1   40.866667  14.266667 -0.206667   8.266667  1.0  50.733333   9.866667   \n",
       "2   65.200000  18.800000 -3.260000  10.200000  2.0  74.800000  44.600000   \n",
       "3  100.666667   3.400000 -2.993333   4.633333  1.0  91.933333   1.533333   \n",
       "4   77.000000  15.066667 -1.653333  12.466667  2.0  85.800000   0.000000   \n",
       "\n",
       "          7          8    9          10        11         12         13   14  \n",
       "0 -5.860000  15.966667  3.0   44.200000  3.733333  -2.813333   6.400000  1.0  \n",
       "1 -6.540000  12.433333  3.0   65.666667  8.400000  -8.086667   7.300000  2.0  \n",
       "2 -7.293333  11.900000  3.0  105.133333  3.066667 -11.266667   3.700000  2.0  \n",
       "3  0.900000   6.100000  1.0   88.933333  0.000000   2.020000  10.400000  1.0  \n",
       "4 -9.320000   2.533333  2.0   83.266667  0.000000  -7.046667   3.966667  1.0  "
      ]
     },
     "execution_count": 9,
     "metadata": {},
     "output_type": "execute_result"
    }
   ],
   "source": [
    "train_df.head()"
   ]
  },
  {
   "cell_type": "code",
   "execution_count": 10,
   "id": "eeaebaa9",
   "metadata": {},
   "outputs": [
    {
     "data": {
      "text/html": [
       "<div>\n",
       "<style scoped>\n",
       "    .dataframe tbody tr th:only-of-type {\n",
       "        vertical-align: middle;\n",
       "    }\n",
       "\n",
       "    .dataframe tbody tr th {\n",
       "        vertical-align: top;\n",
       "    }\n",
       "\n",
       "    .dataframe thead th {\n",
       "        text-align: right;\n",
       "    }\n",
       "</style>\n",
       "<table border=\"1\" class=\"dataframe\">\n",
       "  <thead>\n",
       "    <tr style=\"text-align: right;\">\n",
       "      <th></th>\n",
       "      <th>0</th>\n",
       "      <th>1</th>\n",
       "      <th>2</th>\n",
       "      <th>3</th>\n",
       "      <th>4</th>\n",
       "      <th>5</th>\n",
       "      <th>6</th>\n",
       "      <th>7</th>\n",
       "      <th>8</th>\n",
       "      <th>9</th>\n",
       "      <th>10</th>\n",
       "      <th>11</th>\n",
       "      <th>12</th>\n",
       "      <th>13</th>\n",
       "      <th>14</th>\n",
       "    </tr>\n",
       "  </thead>\n",
       "  <tbody>\n",
       "    <tr>\n",
       "      <th>0</th>\n",
       "      <td>40.600000</td>\n",
       "      <td>0.000000</td>\n",
       "      <td>0.186667</td>\n",
       "      <td>3.300000</td>\n",
       "      <td>1.0</td>\n",
       "      <td>38.866667</td>\n",
       "      <td>0.333333</td>\n",
       "      <td>1.846667</td>\n",
       "      <td>9.250000</td>\n",
       "      <td>1.0</td>\n",
       "      <td>36.800000</td>\n",
       "      <td>0.400000</td>\n",
       "      <td>-1.000000</td>\n",
       "      <td>5.550000</td>\n",
       "      <td>1.0</td>\n",
       "    </tr>\n",
       "    <tr>\n",
       "      <th>1</th>\n",
       "      <td>286.066667</td>\n",
       "      <td>0.000000</td>\n",
       "      <td>-1.366667</td>\n",
       "      <td>2.250000</td>\n",
       "      <td>2.0</td>\n",
       "      <td>281.800000</td>\n",
       "      <td>1.533333</td>\n",
       "      <td>1.806667</td>\n",
       "      <td>4.250000</td>\n",
       "      <td>2.0</td>\n",
       "      <td>276.133333</td>\n",
       "      <td>8.200000</td>\n",
       "      <td>3.333333</td>\n",
       "      <td>7.550000</td>\n",
       "      <td>1.0</td>\n",
       "    </tr>\n",
       "    <tr>\n",
       "      <th>2</th>\n",
       "      <td>80.933333</td>\n",
       "      <td>2.666667</td>\n",
       "      <td>-1.006667</td>\n",
       "      <td>10.566667</td>\n",
       "      <td>1.0</td>\n",
       "      <td>80.466667</td>\n",
       "      <td>0.000000</td>\n",
       "      <td>2.342857</td>\n",
       "      <td>6.950000</td>\n",
       "      <td>2.0</td>\n",
       "      <td>77.600000</td>\n",
       "      <td>0.000000</td>\n",
       "      <td>4.493333</td>\n",
       "      <td>3.800000</td>\n",
       "      <td>1.0</td>\n",
       "    </tr>\n",
       "    <tr>\n",
       "      <th>3</th>\n",
       "      <td>131.266667</td>\n",
       "      <td>0.000000</td>\n",
       "      <td>-1.926667</td>\n",
       "      <td>6.466667</td>\n",
       "      <td>2.0</td>\n",
       "      <td>127.533333</td>\n",
       "      <td>0.200000</td>\n",
       "      <td>-4.700000</td>\n",
       "      <td>9.566667</td>\n",
       "      <td>2.0</td>\n",
       "      <td>128.066667</td>\n",
       "      <td>0.933333</td>\n",
       "      <td>-4.653333</td>\n",
       "      <td>5.033333</td>\n",
       "      <td>1.0</td>\n",
       "    </tr>\n",
       "    <tr>\n",
       "      <th>4</th>\n",
       "      <td>32.866667</td>\n",
       "      <td>1.000000</td>\n",
       "      <td>1.273333</td>\n",
       "      <td>3.533333</td>\n",
       "      <td>2.0</td>\n",
       "      <td>29.400000</td>\n",
       "      <td>0.000000</td>\n",
       "      <td>0.940000</td>\n",
       "      <td>1.766667</td>\n",
       "      <td>2.0</td>\n",
       "      <td>27.933333</td>\n",
       "      <td>0.000000</td>\n",
       "      <td>-1.073333</td>\n",
       "      <td>2.266667</td>\n",
       "      <td>2.0</td>\n",
       "    </tr>\n",
       "  </tbody>\n",
       "</table>\n",
       "</div>"
      ],
      "text/plain": [
       "            0         1         2          3    4           5         6  \\\n",
       "0   40.600000  0.000000  0.186667   3.300000  1.0   38.866667  0.333333   \n",
       "1  286.066667  0.000000 -1.366667   2.250000  2.0  281.800000  1.533333   \n",
       "2   80.933333  2.666667 -1.006667  10.566667  1.0   80.466667  0.000000   \n",
       "3  131.266667  0.000000 -1.926667   6.466667  2.0  127.533333  0.200000   \n",
       "4   32.866667  1.000000  1.273333   3.533333  2.0   29.400000  0.000000   \n",
       "\n",
       "          7         8    9          10        11        12        13   14  \n",
       "0  1.846667  9.250000  1.0   36.800000  0.400000 -1.000000  5.550000  1.0  \n",
       "1  1.806667  4.250000  2.0  276.133333  8.200000  3.333333  7.550000  1.0  \n",
       "2  2.342857  6.950000  2.0   77.600000  0.000000  4.493333  3.800000  1.0  \n",
       "3 -4.700000  9.566667  2.0  128.066667  0.933333 -4.653333  5.033333  1.0  \n",
       "4  0.940000  1.766667  2.0   27.933333  0.000000 -1.073333  2.266667  2.0  "
      ]
     },
     "execution_count": 10,
     "metadata": {},
     "output_type": "execute_result"
    }
   ],
   "source": [
    "test_df.head()"
   ]
  },
  {
   "cell_type": "code",
   "execution_count": 19,
   "id": "70575477",
   "metadata": {},
   "outputs": [
    {
     "data": {
      "text/plain": [
       "0       43.733333\n",
       "1       40.866667\n",
       "2       65.200000\n",
       "3      100.666667\n",
       "4       77.000000\n",
       "          ...    \n",
       "559     65.200000\n",
       "560     59.333333\n",
       "561     59.866667\n",
       "562     68.266667\n",
       "563     68.800000\n",
       "Name: 0, Length: 564, dtype: float64"
      ]
     },
     "execution_count": 19,
     "metadata": {},
     "output_type": "execute_result"
    }
   ],
   "source": [
    "train_df["
   ]
  },
  {
   "cell_type": "code",
   "execution_count": 21,
   "id": "895519b1",
   "metadata": {},
   "outputs": [],
   "source": [
    "X = train_df.iloc[...,:13].to_numpy()\n",
    "Y = train_df.iloc[...,14].to_numpy()"
   ]
  },
  {
   "cell_type": "code",
   "execution_count": 26,
   "id": "68f540fe",
   "metadata": {},
   "outputs": [],
   "source": [
    "X_test = test_df.iloc[...,:13].to_numpy()\n",
    "Y_test = test_df.iloc[...,14].to_numpy()"
   ]
  },
  {
   "cell_type": "code",
   "execution_count": 13,
   "id": "e5f7cb21",
   "metadata": {},
   "outputs": [],
   "source": [
    "from sklearn import tree"
   ]
  },
  {
   "cell_type": "code",
   "execution_count": 23,
   "id": "c7e41c99",
   "metadata": {},
   "outputs": [],
   "source": [
    "clf = tree.DecisionTreeClassifier()\n",
    "clf = clf.fit(X, Y)"
   ]
  },
  {
   "cell_type": "code",
   "execution_count": 32,
   "id": "8072b227",
   "metadata": {},
   "outputs": [
    {
     "data": {
      "image/png": "[encoded data removed]",
      "text/plain": [
       "<Figure size 432x288 with 1 Axes>"
      ]
     },
     "metadata": {
      "needs_background": "light"
     },
     "output_type": "display_data"
    }
   ],
   "source": [
    "tree.plot_tree(clf);"
   ]
  },
  {
   "cell_type": "code",
   "execution_count": 27,
   "id": "37e51ba7",
   "metadata": {},
   "outputs": [
    {
     "data": {
      "text/plain": [
       "array([1., 2., 2., 2., 2., 2., 2., 2., 3., 3., 2., 2., 4., 4., 4., 4.])"
      ]
     },
     "execution_count": 27,
     "metadata": {},
     "output_type": "execute_result"
    }
   ],
   "source": [
    "clf.predict(X_test)"
   ]
  },
  {
   "cell_type": "code",
   "execution_count": 29,
   "id": "dd26f7a9",
   "metadata": {},
   "outputs": [
    {
     "data": {
      "text/plain": [
       "array([1., 1., 1., 1., 2., 2., 2., 2., 3., 3., 3., 3., 4., 4., 4., 4.])"
      ]
     },
     "execution_count": 29,
     "metadata": {},
     "output_type": "execute_result"
    }
   ],
   "source": [
    "Y_test"
   ]
  },
  {
   "cell_type": "code",
   "execution_count": 31,
   "id": "43d102c3",
   "metadata": {},
   "outputs": [
    {
     "data": {
      "text/plain": [
       "0.6875"
      ]
     },
     "execution_count": 31,
     "metadata": {},
     "output_type": "execute_result"
    }
   ],
   "source": [
    "clf.score(X_test, Y_test)"
   ]
  },
  {
   "cell_type": "code",
   "execution_count": 40,
   "id": "ce3892f9",
   "metadata": {},
   "outputs": [
    {
     "data": {
      "image/png": "[encoded data removed]",
      "text/plain": [
       "<Figure size 432x288 with 2 Axes>"
      ]
     },
     "metadata": {
      "needs_background": "light"
     },
     "output_type": "display_data"
    }
   ],
   "source": [
    "class_names=['low', 'moderate', 'considerable', 'high']\n",
    "disp = ConfusionMatrixDisplay.from_estimator(\n",
    "    clf,\n",
    "    X_test,\n",
    "    Y_test,\n",
    "    display_labels=class_names,\n",
    "    cmap=plt.cm.Blues,\n",
    ")"
   ]
  },
  {
   "cell_type": "code",
   "execution_count": 81,
   "id": "070c4635",
   "metadata": {},
   "outputs": [
    {
     "data": {
      "text/plain": [
       "0.4375"
      ]
     },
     "execution_count": 81,
     "metadata": {},
     "output_type": "execute_result"
    }
   ],
   "source": [
    "clf = tree.DecisionTreeClassifier(class_weight='balanced')\n",
    "clf = clf.fit(X, Y)\n",
    "clf.score(X_test, Y_test)"
   ]
  },
  {
   "cell_type": "code",
   "execution_count": 82,
   "id": "0ea9d01c",
   "metadata": {},
   "outputs": [
    {
     "data": {
      "image/png": "[encoded data removed]",
      "text/plain": [
       "<Figure size 432x288 with 2 Axes>"
      ]
     },
     "metadata": {
      "needs_background": "light"
     },
     "output_type": "display_data"
    }
   ],
   "source": [
    "class_names=['low', 'moderate', 'considerable', 'high']\n",
    "disp = ConfusionMatrixDisplay.from_estimator(\n",
    "    clf,\n",
    "    X_test,\n",
    "    Y_test,\n",
    "    display_labels=class_names,\n",
    "    cmap=plt.cm.Blues,\n",
    ")"
   ]
  },
  {
   "cell_type": "code",
   "execution_count": 83,
   "id": "3796b9cd",
   "metadata": {},
   "outputs": [
    {
     "data": {
      "text/plain": [
       "0.625"
      ]
     },
     "execution_count": 83,
     "metadata": {},
     "output_type": "execute_result"
    }
   ],
   "source": [
    "clf = tree.DecisionTreeClassifier(max_depth=5, class_weight='balanced')\n",
    "clf.fit(X, Y).score(X_test, Y_test)"
   ]
  },
  {
   "cell_type": "code",
   "execution_count": 84,
   "id": "2d719f7e",
   "metadata": {},
   "outputs": [
    {
     "data": {
      "text/plain": [
       "0.6875"
      ]
     },
     "execution_count": 84,
     "metadata": {},
     "output_type": "execute_result"
    }
   ],
   "source": [
    "clf = tree.DecisionTreeClassifier(max_depth=3)\n",
    "clf.fit(X, Y).score(X_test, Y_test)"
   ]
  },
  {
   "cell_type": "code",
   "execution_count": 85,
   "id": "e6b75408",
   "metadata": {},
   "outputs": [
    {
     "data": {
      "text/plain": [
       "array([0.71929825, 0.68421053, 0.8245614 , 0.71929825, 0.73214286,\n",
       "       0.78571429, 0.71428571, 0.76785714, 0.875     , 0.78571429])"
      ]
     },
     "execution_count": 85,
     "metadata": {},
     "output_type": "execute_result"
    }
   ],
   "source": [
    "from sklearn.model_selection import cross_val_score\n",
    "cross_val_score(clf, X, Y, cv=10)"
   ]
  },
  {
   "cell_type": "code",
   "execution_count": 86,
   "id": "85481e2f",
   "metadata": {},
   "outputs": [
    {
     "data": {
      "text/plain": [
       "0.7978723404255319"
      ]
     },
     "execution_count": 86,
     "metadata": {},
     "output_type": "execute_result"
    }
   ],
   "source": [
    "clf.score(X, Y)"
   ]
  },
  {
   "cell_type": "code",
   "execution_count": null,
   "id": "1cce8e7e",
   "metadata": {},
   "outputs": [],
   "source": []
  }
 ],
 "metadata": {
  "kernelspec": {
   "display_name": "Python 3 (ipykernel)",
   "language": "python",
   "name": "python3"
  },
  "language_info": {
   "codemirror_mode": {
    "name": "ipython",
    "version": 3
   },
   "file_extension": ".py",
   "mimetype": "text/x-python",
   "name": "python",
   "nbconvert_exporter": "python",
   "pygments_lexer": "ipython3",
   "version": "3.9.7"
  }
 },
 "nbformat": 4,
 "nbformat_minor": 5
}
