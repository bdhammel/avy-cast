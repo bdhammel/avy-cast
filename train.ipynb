{
 "cells": [
  {
   "cell_type": "code",
   "execution_count": null,
   "id": "f833db18",
   "metadata": {},
   "outputs": [],
   "source": []
  },
  {
   "cell_type": "code",
   "execution_count": 1,
   "id": "f702360b",
   "metadata": {},
   "outputs": [],
   "source": [
    "import pandas as pd\n",
    "from sklearn.metrics import ConfusionMatrixDisplay\n",
    "import matplotlib.pyplot as plt"
   ]
  },
  {
   "cell_type": "code",
   "execution_count": 2,
   "id": "6654e836",
   "metadata": {},
   "outputs": [],
   "source": [
    "df = pd.read_csv('./data/data.csv').set_index('date')\n",
    "df.index = pd.to_datetime(df.index)"
   ]
  },
  {
   "cell_type": "code",
   "execution_count": 3,
   "id": "2092c3d5",
   "metadata": {},
   "outputs": [],
   "source": [
    "widnow_size = 3\n",
    "window = np.timedelta64(widnow_size,'D')"
   ]
  },
  {
   "cell_type": "code",
   "execution_count": 4,
   "id": "9d91b3b8",
   "metadata": {},
   "outputs": [],
   "source": [
    "end_date = df.sample().index.values[0]\n",
    "start_date = (end_date - window)"
   ]
  },
  {
   "cell_type": "code",
   "execution_count": 5,
   "id": "6d70e252",
   "metadata": {},
   "outputs": [
    {
     "data": {
      "text/html": [
       "<div>\n",
       "<style scoped>\n",
       "    .dataframe tbody tr th:only-of-type {\n",
       "        vertical-align: middle;\n",
       "    }\n",
       "\n",
       "    .dataframe tbody tr th {\n",
       "        vertical-align: top;\n",
       "    }\n",
       "\n",
       "    .dataframe thead th {\n",
       "        text-align: right;\n",
       "    }\n",
       "</style>\n",
       "<table border=\"1\" class=\"dataframe\">\n",
       "  <thead>\n",
       "    <tr style=\"text-align: right;\">\n",
       "      <th></th>\n",
       "      <th>Snow Depth (cm) Start of Day Values</th>\n",
       "      <th>Precipitation Increment (mm)</th>\n",
       "      <th>Air Temperature Average (degC)</th>\n",
       "      <th>Wind Direction Average (degree)</th>\n",
       "      <th>Wind Speed Average (km/hr)</th>\n",
       "      <th>rating</th>\n",
       "      <th>report</th>\n",
       "      <th>problems</th>\n",
       "    </tr>\n",
       "    <tr>\n",
       "      <th>date</th>\n",
       "      <th></th>\n",
       "      <th></th>\n",
       "      <th></th>\n",
       "      <th></th>\n",
       "      <th></th>\n",
       "      <th></th>\n",
       "      <th></th>\n",
       "      <th></th>\n",
       "    </tr>\n",
       "  </thead>\n",
       "  <tbody>\n",
       "    <tr>\n",
       "      <th>2012-04-03</th>\n",
       "      <td>118.400000</td>\n",
       "      <td>1.466667</td>\n",
       "      <td>4.373333</td>\n",
       "      <td>226.000000</td>\n",
       "      <td>8.6</td>\n",
       "      <td>moderate</td>\n",
       "      <td>https://www.sierraavalanchecenter.org/content/...</td>\n",
       "      <td>[]</td>\n",
       "    </tr>\n",
       "    <tr>\n",
       "      <th>2012-04-04</th>\n",
       "      <td>113.133333</td>\n",
       "      <td>2.333333</td>\n",
       "      <td>-3.246667</td>\n",
       "      <td>250.000000</td>\n",
       "      <td>11.5</td>\n",
       "      <td>moderate</td>\n",
       "      <td>https://www.sierraavalanchecenter.org/content/...</td>\n",
       "      <td>[]</td>\n",
       "    </tr>\n",
       "    <tr>\n",
       "      <th>2012-04-05</th>\n",
       "      <td>115.800000</td>\n",
       "      <td>1.133333</td>\n",
       "      <td>-7.693333</td>\n",
       "      <td>256.666667</td>\n",
       "      <td>6.7</td>\n",
       "      <td>moderate</td>\n",
       "      <td>https://www.sierraavalanchecenter.org/content/...</td>\n",
       "      <td>[]</td>\n",
       "    </tr>\n",
       "  </tbody>\n",
       "</table>\n",
       "</div>"
      ],
      "text/plain": [
       "            Snow Depth (cm) Start of Day Values  Precipitation Increment (mm)  \\\n",
       "date                                                                            \n",
       "2012-04-03                           118.400000                      1.466667   \n",
       "2012-04-04                           113.133333                      2.333333   \n",
       "2012-04-05                           115.800000                      1.133333   \n",
       "\n",
       "            Air Temperature Average (degC)  Wind Direction Average (degree)  \\\n",
       "date                                                                          \n",
       "2012-04-03                        4.373333                       226.000000   \n",
       "2012-04-04                       -3.246667                       250.000000   \n",
       "2012-04-05                       -7.693333                       256.666667   \n",
       "\n",
       "            Wind Speed Average (km/hr)    rating  \\\n",
       "date                                               \n",
       "2012-04-03                         8.6  moderate   \n",
       "2012-04-04                        11.5  moderate   \n",
       "2012-04-05                         6.7  moderate   \n",
       "\n",
       "                                                       report problems  \n",
       "date                                                                    \n",
       "2012-04-03  https://www.sierraavalanchecenter.org/content/...       []  \n",
       "2012-04-04  https://www.sierraavalanchecenter.org/content/...       []  \n",
       "2012-04-05  https://www.sierraavalanchecenter.org/content/...       []  "
      ]
     },
     "execution_count": 5,
     "metadata": {},
     "output_type": "execute_result"
    }
   ],
   "source": [
    "df[(df.index > start_date) & (df.index <= end_date)]"
   ]
  },
  {
   "cell_type": "code",
   "execution_count": 6,
   "id": "ecd18a0d",
   "metadata": {},
   "outputs": [],
   "source": [
    "_df = df.drop(['report', 'problems', 'Wind Direction Average (degree)'], axis=1)\n",
    "values = [0, 1, 2, 3, 4, 5]\n",
    "conditions = (\n",
    "    df['rating'] == 'na',\n",
    "    df['rating'] == 'low',\n",
    "    df['rating'] == 'moderate',\n",
    "    df['rating'] == 'considerable',\n",
    "    df['rating'] == 'high',\n",
    "    df['rating'] == 'extream',\n",
    ")\n",
    "_df['rating'] = np.select(conditions, values)\n",
    "\n",
    "start = _df.iloc[0].name\n",
    "max_end = _df.iloc[-1].name\n",
    "end = start + window\n",
    "slices = []\n",
    "not_even_slice = []\n",
    "one_day = np.timedelta64(1,'D')\n",
    "\n",
    "while end <= max_end:\n",
    "    df_slice = _df[(_df.index > start) & (_df.index <= end)]\n",
    "    if len(df_slice) == widnow_size:\n",
    "        slices.append(df_slice)\n",
    "        start = end\n",
    "        end = start + window\n",
    "    else:\n",
    "        #not_even_slice.append(df_slice)\n",
    "        start = start + one_day\n",
    "        end = end + one_day"
   ]
  },
  {
   "cell_type": "code",
   "execution_count": 7,
   "id": "11fbe0a5",
   "metadata": {},
   "outputs": [],
   "source": [
    "targets = slices[0]\n",
    "for sample in slices[1:]:\n",
    "    targets = pd.concat([targets, sample.iloc[-1:]])"
   ]
  },
  {
   "cell_type": "code",
   "execution_count": 8,
   "id": "837c5205",
   "metadata": {},
   "outputs": [],
   "source": [
    "dataset = []\n",
    "for sample in slices:\n",
    "    flat_sample = sample.to_numpy().flatten().tolist()\n",
    "    dataset.append([*flat_sample[:-1], flat_sample[-1]])"
   ]
  },
  {
   "cell_type": "code",
   "execution_count": 9,
   "id": "b6cf5a96",
   "metadata": {},
   "outputs": [],
   "source": [
    "class_idx = 5*widnow_size - 1 # 5 features\n",
    "assert len(dataset[0]) == class_idx + 1, len(dataset[0])"
   ]
  },
  {
   "cell_type": "code",
   "execution_count": 10,
   "id": "3f826d5e",
   "metadata": {},
   "outputs": [],
   "source": [
    "df = pd.DataFrame(dataset)"
   ]
  },
  {
   "cell_type": "code",
   "execution_count": 11,
   "id": "e4067814",
   "metadata": {},
   "outputs": [],
   "source": [
    "df = df[df[class_idx] != 0]"
   ]
  },
  {
   "cell_type": "code",
   "execution_count": 12,
   "id": "4e449b42",
   "metadata": {},
   "outputs": [
    {
     "data": {
      "text/plain": [
       "array([179, 292,  89,  20])"
      ]
     },
     "execution_count": 12,
     "metadata": {},
     "output_type": "execute_result"
    }
   ],
   "source": [
    "lables, counts = np.unique(df.iloc[...,class_idx], return_counts=True)\n",
    "lables = lables.astype(int)\n",
    "counts = counts[(lables != 0) & (lables != 5)]\n",
    "counts"
   ]
  },
  {
   "cell_type": "code",
   "execution_count": 13,
   "id": "c0e5584a",
   "metadata": {},
   "outputs": [
    {
     "data": {
      "text/plain": [
       "[17, 29, 8, 2]"
      ]
     },
     "execution_count": 13,
     "metadata": {},
     "output_type": "execute_result"
    }
   ],
   "source": [
    "test_set_size = [ int(.1 * count) for count in counts]\n",
    "test_set_size"
   ]
  },
  {
   "cell_type": "code",
   "execution_count": 14,
   "id": "e88e77fb",
   "metadata": {},
   "outputs": [],
   "source": [
    "test_df = pd.DataFrame()\n",
    "test_df = pd.concat([test_df, df[df[class_idx]==1].sample(test_set_size[0])])\n",
    "test_df = pd.concat([test_df, df[df[class_idx]==2].sample(test_set_size[1])])\n",
    "test_df = pd.concat([test_df, df[df[class_idx]==3].sample(test_set_size[2])])\n",
    "test_df = pd.concat([test_df, df[df[class_idx]==4].sample(test_set_size[3])])"
   ]
  },
  {
   "cell_type": "code",
   "execution_count": 15,
   "id": "d4f201b8",
   "metadata": {},
   "outputs": [
    {
     "data": {
      "text/html": [
       "<div>\n",
       "<style scoped>\n",
       "    .dataframe tbody tr th:only-of-type {\n",
       "        vertical-align: middle;\n",
       "    }\n",
       "\n",
       "    .dataframe tbody tr th {\n",
       "        vertical-align: top;\n",
       "    }\n",
       "\n",
       "    .dataframe thead th {\n",
       "        text-align: right;\n",
       "    }\n",
       "</style>\n",
       "<table border=\"1\" class=\"dataframe\">\n",
       "  <thead>\n",
       "    <tr style=\"text-align: right;\">\n",
       "      <th></th>\n",
       "      <th>0</th>\n",
       "      <th>1</th>\n",
       "      <th>2</th>\n",
       "      <th>3</th>\n",
       "      <th>4</th>\n",
       "      <th>5</th>\n",
       "      <th>6</th>\n",
       "      <th>7</th>\n",
       "      <th>8</th>\n",
       "      <th>9</th>\n",
       "      <th>10</th>\n",
       "      <th>11</th>\n",
       "      <th>12</th>\n",
       "      <th>13</th>\n",
       "      <th>14</th>\n",
       "    </tr>\n",
       "  </thead>\n",
       "  <tbody>\n",
       "    <tr>\n",
       "      <th>262</th>\n",
       "      <td>90.200000</td>\n",
       "      <td>0.000000</td>\n",
       "      <td>0.906667</td>\n",
       "      <td>9.233333</td>\n",
       "      <td>2.0</td>\n",
       "      <td>87.666667</td>\n",
       "      <td>0.200000</td>\n",
       "      <td>1.906667</td>\n",
       "      <td>7.666667</td>\n",
       "      <td>2.0</td>\n",
       "      <td>86.333333</td>\n",
       "      <td>0.200000</td>\n",
       "      <td>0.160000</td>\n",
       "      <td>8.933333</td>\n",
       "      <td>1.0</td>\n",
       "    </tr>\n",
       "    <tr>\n",
       "      <th>7</th>\n",
       "      <td>73.666667</td>\n",
       "      <td>0.200000</td>\n",
       "      <td>2.373333</td>\n",
       "      <td>4.300000</td>\n",
       "      <td>1.0</td>\n",
       "      <td>73.266667</td>\n",
       "      <td>0.000000</td>\n",
       "      <td>2.113333</td>\n",
       "      <td>6.433333</td>\n",
       "      <td>1.0</td>\n",
       "      <td>72.600000</td>\n",
       "      <td>0.000000</td>\n",
       "      <td>4.586667</td>\n",
       "      <td>3.100000</td>\n",
       "      <td>1.0</td>\n",
       "    </tr>\n",
       "    <tr>\n",
       "      <th>299</th>\n",
       "      <td>44.133333</td>\n",
       "      <td>0.000000</td>\n",
       "      <td>0.613333</td>\n",
       "      <td>4.966667</td>\n",
       "      <td>1.0</td>\n",
       "      <td>43.333333</td>\n",
       "      <td>0.000000</td>\n",
       "      <td>3.560000</td>\n",
       "      <td>5.700000</td>\n",
       "      <td>1.0</td>\n",
       "      <td>42.133333</td>\n",
       "      <td>0.000000</td>\n",
       "      <td>6.053333</td>\n",
       "      <td>3.666667</td>\n",
       "      <td>1.0</td>\n",
       "    </tr>\n",
       "    <tr>\n",
       "      <th>106</th>\n",
       "      <td>176.666667</td>\n",
       "      <td>5.733333</td>\n",
       "      <td>-1.426667</td>\n",
       "      <td>8.400000</td>\n",
       "      <td>1.0</td>\n",
       "      <td>175.800000</td>\n",
       "      <td>0.000000</td>\n",
       "      <td>0.666667</td>\n",
       "      <td>6.100000</td>\n",
       "      <td>2.0</td>\n",
       "      <td>174.266667</td>\n",
       "      <td>5.933333</td>\n",
       "      <td>0.900000</td>\n",
       "      <td>8.233333</td>\n",
       "      <td>1.0</td>\n",
       "    </tr>\n",
       "    <tr>\n",
       "      <th>476</th>\n",
       "      <td>55.466667</td>\n",
       "      <td>1.200000</td>\n",
       "      <td>5.293333</td>\n",
       "      <td>12.250000</td>\n",
       "      <td>2.0</td>\n",
       "      <td>53.933333</td>\n",
       "      <td>6.666667</td>\n",
       "      <td>0.060000</td>\n",
       "      <td>11.800000</td>\n",
       "      <td>2.0</td>\n",
       "      <td>61.466667</td>\n",
       "      <td>1.200000</td>\n",
       "      <td>-0.566667</td>\n",
       "      <td>6.150000</td>\n",
       "      <td>1.0</td>\n",
       "    </tr>\n",
       "  </tbody>\n",
       "</table>\n",
       "</div>"
      ],
      "text/plain": [
       "             0         1         2          3    4           5         6   \\\n",
       "262   90.200000  0.000000  0.906667   9.233333  2.0   87.666667  0.200000   \n",
       "7     73.666667  0.200000  2.373333   4.300000  1.0   73.266667  0.000000   \n",
       "299   44.133333  0.000000  0.613333   4.966667  1.0   43.333333  0.000000   \n",
       "106  176.666667  5.733333 -1.426667   8.400000  1.0  175.800000  0.000000   \n",
       "476   55.466667  1.200000  5.293333  12.250000  2.0   53.933333  6.666667   \n",
       "\n",
       "           7          8    9           10        11        12        13   14  \n",
       "262  1.906667   7.666667  2.0   86.333333  0.200000  0.160000  8.933333  1.0  \n",
       "7    2.113333   6.433333  1.0   72.600000  0.000000  4.586667  3.100000  1.0  \n",
       "299  3.560000   5.700000  1.0   42.133333  0.000000  6.053333  3.666667  1.0  \n",
       "106  0.666667   6.100000  2.0  174.266667  5.933333  0.900000  8.233333  1.0  \n",
       "476  0.060000  11.800000  2.0   61.466667  1.200000 -0.566667  6.150000  1.0  "
      ]
     },
     "execution_count": 15,
     "metadata": {},
     "output_type": "execute_result"
    }
   ],
   "source": [
    "test_df.head()"
   ]
  },
  {
   "cell_type": "code",
   "execution_count": 16,
   "id": "4ebf407e",
   "metadata": {},
   "outputs": [],
   "source": [
    "train_df = df.drop(test_df.index)"
   ]
  },
  {
   "cell_type": "code",
   "execution_count": 17,
   "id": "417f05a2",
   "metadata": {},
   "outputs": [
    {
     "data": {
      "text/html": [
       "<div>\n",
       "<style scoped>\n",
       "    .dataframe tbody tr th:only-of-type {\n",
       "        vertical-align: middle;\n",
       "    }\n",
       "\n",
       "    .dataframe tbody tr th {\n",
       "        vertical-align: top;\n",
       "    }\n",
       "\n",
       "    .dataframe thead th {\n",
       "        text-align: right;\n",
       "    }\n",
       "</style>\n",
       "<table border=\"1\" class=\"dataframe\">\n",
       "  <thead>\n",
       "    <tr style=\"text-align: right;\">\n",
       "      <th></th>\n",
       "      <th>0</th>\n",
       "      <th>1</th>\n",
       "      <th>2</th>\n",
       "      <th>3</th>\n",
       "      <th>4</th>\n",
       "      <th>5</th>\n",
       "      <th>6</th>\n",
       "      <th>7</th>\n",
       "      <th>8</th>\n",
       "      <th>9</th>\n",
       "      <th>10</th>\n",
       "      <th>11</th>\n",
       "      <th>12</th>\n",
       "      <th>13</th>\n",
       "      <th>14</th>\n",
       "    </tr>\n",
       "  </thead>\n",
       "  <tbody>\n",
       "    <tr>\n",
       "      <th>0</th>\n",
       "      <td>43.733333</td>\n",
       "      <td>5.466667</td>\n",
       "      <td>-7.420000</td>\n",
       "      <td>11.900000</td>\n",
       "      <td>1.0</td>\n",
       "      <td>41.533333</td>\n",
       "      <td>9.200000</td>\n",
       "      <td>-5.860000</td>\n",
       "      <td>15.966667</td>\n",
       "      <td>3.0</td>\n",
       "      <td>44.200000</td>\n",
       "      <td>3.733333</td>\n",
       "      <td>-2.813333</td>\n",
       "      <td>6.400000</td>\n",
       "      <td>1.0</td>\n",
       "    </tr>\n",
       "    <tr>\n",
       "      <th>1</th>\n",
       "      <td>40.866667</td>\n",
       "      <td>14.266667</td>\n",
       "      <td>-0.206667</td>\n",
       "      <td>8.266667</td>\n",
       "      <td>1.0</td>\n",
       "      <td>50.733333</td>\n",
       "      <td>9.866667</td>\n",
       "      <td>-6.540000</td>\n",
       "      <td>12.433333</td>\n",
       "      <td>3.0</td>\n",
       "      <td>65.666667</td>\n",
       "      <td>8.400000</td>\n",
       "      <td>-8.086667</td>\n",
       "      <td>7.300000</td>\n",
       "      <td>2.0</td>\n",
       "    </tr>\n",
       "    <tr>\n",
       "      <th>2</th>\n",
       "      <td>65.200000</td>\n",
       "      <td>18.800000</td>\n",
       "      <td>-3.260000</td>\n",
       "      <td>10.200000</td>\n",
       "      <td>2.0</td>\n",
       "      <td>74.800000</td>\n",
       "      <td>44.600000</td>\n",
       "      <td>-7.293333</td>\n",
       "      <td>11.900000</td>\n",
       "      <td>3.0</td>\n",
       "      <td>105.133333</td>\n",
       "      <td>3.066667</td>\n",
       "      <td>-11.266667</td>\n",
       "      <td>3.700000</td>\n",
       "      <td>2.0</td>\n",
       "    </tr>\n",
       "    <tr>\n",
       "      <th>3</th>\n",
       "      <td>100.666667</td>\n",
       "      <td>3.400000</td>\n",
       "      <td>-2.993333</td>\n",
       "      <td>4.633333</td>\n",
       "      <td>1.0</td>\n",
       "      <td>91.933333</td>\n",
       "      <td>1.533333</td>\n",
       "      <td>0.900000</td>\n",
       "      <td>6.100000</td>\n",
       "      <td>1.0</td>\n",
       "      <td>88.933333</td>\n",
       "      <td>0.000000</td>\n",
       "      <td>2.020000</td>\n",
       "      <td>10.400000</td>\n",
       "      <td>1.0</td>\n",
       "    </tr>\n",
       "    <tr>\n",
       "      <th>4</th>\n",
       "      <td>77.000000</td>\n",
       "      <td>15.066667</td>\n",
       "      <td>-1.653333</td>\n",
       "      <td>12.466667</td>\n",
       "      <td>2.0</td>\n",
       "      <td>85.800000</td>\n",
       "      <td>0.000000</td>\n",
       "      <td>-9.320000</td>\n",
       "      <td>2.533333</td>\n",
       "      <td>2.0</td>\n",
       "      <td>83.266667</td>\n",
       "      <td>0.000000</td>\n",
       "      <td>-7.046667</td>\n",
       "      <td>3.966667</td>\n",
       "      <td>1.0</td>\n",
       "    </tr>\n",
       "  </tbody>\n",
       "</table>\n",
       "</div>"
      ],
      "text/plain": [
       "           0          1         2          3    4          5          6   \\\n",
       "0   43.733333   5.466667 -7.420000  11.900000  1.0  41.533333   9.200000   \n",
       "1   40.866667  14.266667 -0.206667   8.266667  1.0  50.733333   9.866667   \n",
       "2   65.200000  18.800000 -3.260000  10.200000  2.0  74.800000  44.600000   \n",
       "3  100.666667   3.400000 -2.993333   4.633333  1.0  91.933333   1.533333   \n",
       "4   77.000000  15.066667 -1.653333  12.466667  2.0  85.800000   0.000000   \n",
       "\n",
       "         7          8    9           10        11         12         13   14  \n",
       "0 -5.860000  15.966667  3.0   44.200000  3.733333  -2.813333   6.400000  1.0  \n",
       "1 -6.540000  12.433333  3.0   65.666667  8.400000  -8.086667   7.300000  2.0  \n",
       "2 -7.293333  11.900000  3.0  105.133333  3.066667 -11.266667   3.700000  2.0  \n",
       "3  0.900000   6.100000  1.0   88.933333  0.000000   2.020000  10.400000  1.0  \n",
       "4 -9.320000   2.533333  2.0   83.266667  0.000000  -7.046667   3.966667  1.0  "
      ]
     },
     "execution_count": 17,
     "metadata": {},
     "output_type": "execute_result"
    }
   ],
   "source": [
    "train_df.head()"
   ]
  },
  {
   "cell_type": "code",
   "execution_count": 18,
   "id": "47a173aa",
   "metadata": {},
   "outputs": [],
   "source": [
    "train_df = train_df.reset_index().drop('index', axis=1)\n",
    "test_df = test_df.reset_index().drop('index', axis=1)"
   ]
  },
  {
   "cell_type": "code",
   "execution_count": 19,
   "id": "895519b1",
   "metadata": {},
   "outputs": [],
   "source": [
    "X = train_df.iloc[...,:class_idx-1].to_numpy()\n",
    "Y = train_df.iloc[...,class_idx].to_numpy().astype(int)"
   ]
  },
  {
   "cell_type": "code",
   "execution_count": 20,
   "id": "68f540fe",
   "metadata": {},
   "outputs": [],
   "source": [
    "X_test = test_df.iloc[...,:class_idx-1].to_numpy()\n",
    "Y_test = test_df.iloc[...,class_idx].to_numpy().astype(int)"
   ]
  },
  {
   "cell_type": "code",
   "execution_count": 21,
   "id": "e5f7cb21",
   "metadata": {},
   "outputs": [],
   "source": [
    "from sklearn import tree"
   ]
  },
  {
   "cell_type": "code",
   "execution_count": 22,
   "id": "c7e41c99",
   "metadata": {},
   "outputs": [],
   "source": [
    "clf = tree.DecisionTreeClassifier()\n",
    "clf = clf.fit(X, Y)"
   ]
  },
  {
   "cell_type": "code",
   "execution_count": 23,
   "id": "37e51ba7",
   "metadata": {},
   "outputs": [
    {
     "data": {
      "text/plain": [
       "array([2, 1, 1, 3, 1, 1, 2, 1, 1, 2, 1, 1, 1, 2, 1, 1, 1, 2, 2, 1, 2, 2,\n",
       "       1, 2, 2, 2, 2, 2, 2, 2, 2, 2, 2, 2, 1, 3, 2, 1, 3, 2, 2, 2, 2, 1,\n",
       "       2, 2, 2, 2, 1, 1, 3, 2, 1, 2, 3, 4])"
      ]
     },
     "execution_count": 23,
     "metadata": {},
     "output_type": "execute_result"
    }
   ],
   "source": [
    "clf.predict(X_test)"
   ]
  },
  {
   "cell_type": "code",
   "execution_count": 24,
   "id": "dd26f7a9",
   "metadata": {},
   "outputs": [
    {
     "data": {
      "text/plain": [
       "array([1, 1, 1, 1, 1, 1, 1, 1, 1, 1, 1, 1, 1, 1, 1, 1, 1, 2, 2, 2, 2, 2,\n",
       "       2, 2, 2, 2, 2, 2, 2, 2, 2, 2, 2, 2, 2, 2, 2, 2, 2, 2, 2, 2, 2, 2,\n",
       "       2, 2, 3, 3, 3, 3, 3, 3, 3, 3, 4, 4])"
      ]
     },
     "execution_count": 24,
     "metadata": {},
     "output_type": "execute_result"
    }
   ],
   "source": [
    "Y_test"
   ]
  },
  {
   "cell_type": "code",
   "execution_count": 25,
   "id": "43d102c3",
   "metadata": {},
   "outputs": [
    {
     "data": {
      "text/plain": [
       "0.6428571428571429"
      ]
     },
     "execution_count": 25,
     "metadata": {},
     "output_type": "execute_result"
    }
   ],
   "source": [
    "clf.score(X_test, Y_test)"
   ]
  },
  {
   "cell_type": "code",
   "execution_count": 26,
   "id": "305e7fef",
   "metadata": {},
   "outputs": [
    {
     "data": {
      "text/plain": [
       "(array([1, 2, 3, 4]), array([162, 263,  81,  18]))"
      ]
     },
     "execution_count": 26,
     "metadata": {},
     "output_type": "execute_result"
    }
   ],
   "source": [
    "np.unique(Y, return_counts=True)"
   ]
  },
  {
   "cell_type": "code",
   "execution_count": 27,
   "id": "593e0a67",
   "metadata": {},
   "outputs": [
    {
     "data": {
      "text/plain": [
       "(array([1, 2, 3, 4]), array([17, 29,  8,  2]))"
      ]
     },
     "execution_count": 27,
     "metadata": {},
     "output_type": "execute_result"
    }
   ],
   "source": [
    "np.unique(Y_test, return_counts=True)"
   ]
  },
  {
   "cell_type": "code",
   "execution_count": 28,
   "id": "ce3892f9",
   "metadata": {},
   "outputs": [
    {
     "data": {
      "image/png": "[encoded data removed]",
      "text/plain": [
       "<Figure size 432x288 with 2 Axes>"
      ]
     },
     "metadata": {
      "needs_background": "light"
     },
     "output_type": "display_data"
    }
   ],
   "source": [
    "class_names=['low', 'moderate', 'considerable', 'high']\n",
    "disp = ConfusionMatrixDisplay.from_estimator(\n",
    "    clf,\n",
    "    X_test,\n",
    "    Y_test,\n",
    "    display_labels=class_names,\n",
    "    cmap=plt.cm.Blues,\n",
    "    normalize='true'\n",
    ")\n",
    "disp.ax_.set_xticklabels(disp.ax_.get_xticklabels(), rotation=45);"
   ]
  },
  {
   "cell_type": "code",
   "execution_count": 29,
   "id": "070c4635",
   "metadata": {},
   "outputs": [
    {
     "data": {
      "text/plain": [
       "0.7142857142857143"
      ]
     },
     "execution_count": 29,
     "metadata": {},
     "output_type": "execute_result"
    }
   ],
   "source": [
    "clf = tree.DecisionTreeClassifier(class_weight='balanced')\n",
    "clf = clf.fit(X, Y)\n",
    "clf.score(X_test, Y_test)"
   ]
  },
  {
   "cell_type": "code",
   "execution_count": 37,
   "id": "3796b9cd",
   "metadata": {},
   "outputs": [
    {
     "data": {
      "text/plain": [
       "0.8035714285714286"
      ]
     },
     "execution_count": 37,
     "metadata": {},
     "output_type": "execute_result"
    }
   ],
   "source": [
    "clf = tree.DecisionTreeClassifier(max_depth=3, class_weight='balanced')\n",
    "clf.fit(X, Y).score(X_test, Y_test)"
   ]
  },
  {
   "cell_type": "code",
   "execution_count": 38,
   "id": "1d427bb0",
   "metadata": {},
   "outputs": [
    {
     "data": {
      "image/png": "[encoded data removed]",
      "text/plain": [
       "<Figure size 432x288 with 2 Axes>"
      ]
     },
     "metadata": {
      "needs_background": "light"
     },
     "output_type": "display_data"
    }
   ],
   "source": [
    "disp = ConfusionMatrixDisplay.from_estimator(\n",
    "    clf,\n",
    "    X_test,\n",
    "    Y_test,\n",
    "    display_labels=class_names,\n",
    "    cmap=plt.cm.Blues,\n",
    "    normalize='true'\n",
    ")\n",
    "disp.ax_.set_xticklabels(disp.ax_.get_xticklabels(), rotation=45);"
   ]
  },
  {
   "cell_type": "code",
   "execution_count": 32,
   "id": "2d719f7e",
   "metadata": {},
   "outputs": [
    {
     "data": {
      "text/plain": [
       "0.6964285714285714"
      ]
     },
     "execution_count": 32,
     "metadata": {},
     "output_type": "execute_result"
    }
   ],
   "source": [
    "clf = tree.DecisionTreeClassifier(max_depth=6)\n",
    "clf.fit(X, Y).score(X_test, Y_test)"
   ]
  },
  {
   "cell_type": "code",
   "execution_count": 33,
   "id": "a8890300",
   "metadata": {},
   "outputs": [
    {
     "data": {
      "image/png": "[encoded data removed]",
      "text/plain": [
       "<Figure size 1080x720 with 1 Axes>"
      ]
     },
     "metadata": {
      "needs_background": "light"
     },
     "output_type": "display_data"
    }
   ],
   "source": [
    "plt.figure(figsize=(15,10))\n",
    "tree.plot_tree(clf);"
   ]
  },
  {
   "cell_type": "code",
   "execution_count": 34,
   "id": "e6b75408",
   "metadata": {},
   "outputs": [
    {
     "data": {
      "text/plain": [
       "array([0.66037736, 0.71698113, 0.8490566 , 0.73584906, 0.73076923,\n",
       "       0.73076923, 0.78846154, 0.73076923, 0.73076923, 0.75      ])"
      ]
     },
     "execution_count": 34,
     "metadata": {},
     "output_type": "execute_result"
    }
   ],
   "source": [
    "from sklearn.model_selection import cross_val_score\n",
    "clf = tree.DecisionTreeClassifier(max_depth=6)\n",
    "cross_val_score(clf, X, Y, cv=10)"
   ]
  },
  {
   "cell_type": "code",
   "execution_count": null,
   "id": "85481e2f",
   "metadata": {},
   "outputs": [],
   "source": []
  },
  {
   "cell_type": "code",
   "execution_count": null,
   "id": "1cce8e7e",
   "metadata": {},
   "outputs": [],
   "source": []
  },
  {
   "cell_type": "code",
   "execution_count": 35,
   "id": "3eec16b1",
   "metadata": {},
   "outputs": [],
   "source": [
    "depths = list(range(1, 15))\n",
    "test_acs = []\n",
    "train_acs = []\n",
    "for depth in depths:\n",
    "    clf = tree.DecisionTreeClassifier(max_depth=depth, class_weight='balanced')\n",
    "    test_ac = clf.fit(X, Y).score(X_test, Y_test)\n",
    "    test_acs.append(test_ac)\n",
    "    train_ac = clf.score(X, Y)\n",
    "    train_acs.append(train_ac)"
   ]
  },
  {
   "cell_type": "code",
   "execution_count": 36,
   "id": "a09f5949",
   "metadata": {},
   "outputs": [
    {
     "data": {
      "text/plain": [
       "[<matplotlib.lines.Line2D at 0x179fc9310>]"
      ]
     },
     "execution_count": 36,
     "metadata": {},
     "output_type": "execute_result"
    },
    {
     "data": {
      "image/png": "[encoded data removed]",
      "text/plain": [
       "<Figure size 432x288 with 1 Axes>"
      ]
     },
     "metadata": {
      "needs_background": "light"
     },
     "output_type": "display_data"
    }
   ],
   "source": [
    "plt.plot(depths, test_acs)\n",
    "plt.plot(depths, train_acs)"
   ]
  },
  {
   "cell_type": "code",
   "execution_count": null,
   "id": "39aa894e",
   "metadata": {},
   "outputs": [],
   "source": []
  },
  {
   "cell_type": "code",
   "execution_count": null,
   "id": "082d8186",
   "metadata": {},
   "outputs": [],
   "source": []
  }
 ],
 "metadata": {
  "kernelspec": {
   "display_name": "Python 3 (ipykernel)",
   "language": "python",
   "name": "python3"
  },
  "language_info": {
   "codemirror_mode": {
    "name": "ipython",
    "version": 3
   },
   "file_extension": ".py",
   "mimetype": "text/x-python",
   "name": "python",
   "nbconvert_exporter": "python",
   "pygments_lexer": "ipython3",
   "version": "3.9.7"
  }
 },
 "nbformat": 4,
 "nbformat_minor": 5
}
