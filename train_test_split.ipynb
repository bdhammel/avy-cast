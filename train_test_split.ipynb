{
 "cells": [
  {
   "cell_type": "code",
   "execution_count": 1,
   "id": "b246abfb",
   "metadata": {},
   "outputs": [],
   "source": [
    "import pandas as pd"
   ]
  },
  {
   "cell_type": "code",
   "execution_count": 3,
   "id": "c637b108",
   "metadata": {},
   "outputs": [],
   "source": [
    "df = pd.read_csv('./data/data.csv')\n",
    "dup_df = pd.read_csv('./data/updated_ratings.csv')"
   ]
  },
  {
   "cell_type": "code",
   "execution_count": 4,
   "id": "eefb4129",
   "metadata": {},
   "outputs": [
    {
     "data": {
      "text/html": [
       "<div>\n",
       "<style scoped>\n",
       "    .dataframe tbody tr th:only-of-type {\n",
       "        vertical-align: middle;\n",
       "    }\n",
       "\n",
       "    .dataframe tbody tr th {\n",
       "        vertical-align: top;\n",
       "    }\n",
       "\n",
       "    .dataframe thead th {\n",
       "        text-align: right;\n",
       "    }\n",
       "</style>\n",
       "<table border=\"1\" class=\"dataframe\">\n",
       "  <thead>\n",
       "    <tr style=\"text-align: right;\">\n",
       "      <th></th>\n",
       "      <th>date</th>\n",
       "      <th>rating</th>\n",
       "      <th>report</th>\n",
       "      <th>problems</th>\n",
       "    </tr>\n",
       "  </thead>\n",
       "  <tbody>\n",
       "    <tr>\n",
       "      <th>0</th>\n",
       "      <td>2019-02-25</td>\n",
       "      <td>high</td>\n",
       "      <td>https://www.sierraavalanchecenter.org/advisory...</td>\n",
       "      <td>['Wind Slab', 'Storm Slab']</td>\n",
       "    </tr>\n",
       "    <tr>\n",
       "      <th>1</th>\n",
       "      <td>2019-02-25</td>\n",
       "      <td>moderate</td>\n",
       "      <td>https://www.sierraavalanchecenter.org/advisory...</td>\n",
       "      <td>['Wind Slab']</td>\n",
       "    </tr>\n",
       "    <tr>\n",
       "      <th>2</th>\n",
       "      <td>2019-02-09</td>\n",
       "      <td>high</td>\n",
       "      <td>https://www.sierraavalanchecenter.org/advisory...</td>\n",
       "      <td>['Wind Slab', 'Storm Slab']</td>\n",
       "    </tr>\n",
       "    <tr>\n",
       "      <th>3</th>\n",
       "      <td>2019-02-09</td>\n",
       "      <td>considerable</td>\n",
       "      <td>https://www.sierraavalanchecenter.org/advisory...</td>\n",
       "      <td>['Wind Slab', 'Storm Slab']</td>\n",
       "    </tr>\n",
       "    <tr>\n",
       "      <th>4</th>\n",
       "      <td>2018-03-04</td>\n",
       "      <td>considerable</td>\n",
       "      <td>https://www.sierraavalanchecenter.org/advisory...</td>\n",
       "      <td>['Deep Slab', 'Wind Slab', 'Loose Wet']</td>\n",
       "    </tr>\n",
       "  </tbody>\n",
       "</table>\n",
       "</div>"
      ],
      "text/plain": [
       "         date        rating  \\\n",
       "0  2019-02-25          high   \n",
       "1  2019-02-25      moderate   \n",
       "2  2019-02-09          high   \n",
       "3  2019-02-09  considerable   \n",
       "4  2018-03-04  considerable   \n",
       "\n",
       "                                              report  \\\n",
       "0  https://www.sierraavalanchecenter.org/advisory...   \n",
       "1  https://www.sierraavalanchecenter.org/advisory...   \n",
       "2  https://www.sierraavalanchecenter.org/advisory...   \n",
       "3  https://www.sierraavalanchecenter.org/advisory...   \n",
       "4  https://www.sierraavalanchecenter.org/advisory...   \n",
       "\n",
       "                                  problems  \n",
       "0              ['Wind Slab', 'Storm Slab']  \n",
       "1                            ['Wind Slab']  \n",
       "2              ['Wind Slab', 'Storm Slab']  \n",
       "3              ['Wind Slab', 'Storm Slab']  \n",
       "4  ['Deep Slab', 'Wind Slab', 'Loose Wet']  "
      ]
     },
     "execution_count": 4,
     "metadata": {},
     "output_type": "execute_result"
    }
   ],
   "source": [
    "dup_df"
   ]
  },
  {
   "cell_type": "code",
   "execution_count": null,
   "id": "283aa75f",
   "metadata": {},
   "outputs": [],
   "source": []
  }
 ],
 "metadata": {
  "kernelspec": {
   "display_name": "Python 3 (ipykernel)",
   "language": "python",
   "name": "python3"
  },
  "language_info": {
   "codemirror_mode": {
    "name": "ipython",
    "version": 3
   },
   "file_extension": ".py",
   "mimetype": "text/x-python",
   "name": "python",
   "nbconvert_exporter": "python",
   "pygments_lexer": "ipython3",
   "version": "3.9.7"
  }
 },
 "nbformat": 4,
 "nbformat_minor": 5
}
